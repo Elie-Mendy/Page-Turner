{
  "cells": [
    {
      "cell_type": "markdown",
      "source": [
        "# Modèle LSTM de Classification de Données Textuelles"
      ],
      "metadata": {
        "id": "Y9M9_xwLubzV"
      }
    },
    {
      "cell_type": "markdown",
      "source": [
        "**Objectif :**\n",
        "\n",
        "Créer une fonctionnalité de modération de contenu automatique pour notre plateforme sociale Page Turner.\n",
        "\n",
        "Cette fonctionnalité vise à identifier et bloquer les commentaires toxiques parmi les commentaires saisis par les utilisateurs de manière à empêcher qu’ils soient postés sur la plateforme."
      ],
      "metadata": {
        "id": "KFcPfYESumtr"
      }
    },
    {
      "cell_type": "markdown",
      "metadata": {
        "id": "9LIG0DWU2QP_"
      },
      "source": [
        "##  Etape 1 : Importation et initialisaton\n"
      ]
    },
    {
      "cell_type": "markdown",
      "source": [
        "**On importe les dépendances :**\n",
        "\n",
        "- `os` : Utilisé pour travailler avec les chemins de fichiers et les structures de dossiers dans le système d'exploitation.\n",
        "\n",
        "- `pandas` : Bibliothèque pour la manipulation et l'analyse de données. Utilisée pour lire, traiter et analyser les données structurées, en particulier les données tabulaires.\n",
        "\n",
        "- `tensorflow` : Framework pour le deep learning et l'apprentissage automatique. Utilisé pour construire, entraîner et déployer des modèles d'apprentissage profond.\n",
        "\n",
        "- `numpy` : Bibliothèque fondamentale pour les calculs scientifiques en Python. Elle fournit un support pour les opérations mathématiques sur des tableaux multidimensionnels et est souvent utilisée pour des tâches telles que les transformations de données et les calculs mathématiques.\n"
      ],
      "metadata": {
        "id": "WDMB-QuZ21zm"
      }
    },
    {
      "cell_type": "code",
      "execution_count": null,
      "metadata": {
        "collapsed": true,
        "jupyter": {
          "outputs_hidden": true
        },
        "tags": [],
        "colab": {
          "base_uri": "https://localhost:8080/"
        },
        "id": "KAXw8-QZ2QQA",
        "outputId": "721bb96d-6719-4b16-c2b9-59e6a61de834"
      },
      "outputs": [
        {
          "output_type": "stream",
          "name": "stdout",
          "text": [
            "Requirement already satisfied: tensorflow in /usr/local/lib/python3.10/dist-packages (2.14.0)\n",
            "Requirement already satisfied: pandas in /usr/local/lib/python3.10/dist-packages (1.5.3)\n",
            "Requirement already satisfied: matplotlib in /usr/local/lib/python3.10/dist-packages (3.7.1)\n",
            "Requirement already satisfied: scikit-learn in /usr/local/lib/python3.10/dist-packages (1.2.2)\n",
            "Requirement already satisfied: absl-py>=1.0.0 in /usr/local/lib/python3.10/dist-packages (from tensorflow) (1.4.0)\n",
            "Requirement already satisfied: astunparse>=1.6.0 in /usr/local/lib/python3.10/dist-packages (from tensorflow) (1.6.3)\n",
            "Requirement already satisfied: flatbuffers>=23.5.26 in /usr/local/lib/python3.10/dist-packages (from tensorflow) (23.5.26)\n",
            "Requirement already satisfied: gast!=0.5.0,!=0.5.1,!=0.5.2,>=0.2.1 in /usr/local/lib/python3.10/dist-packages (from tensorflow) (0.5.4)\n",
            "Requirement already satisfied: google-pasta>=0.1.1 in /usr/local/lib/python3.10/dist-packages (from tensorflow) (0.2.0)\n",
            "Requirement already satisfied: h5py>=2.9.0 in /usr/local/lib/python3.10/dist-packages (from tensorflow) (3.9.0)\n",
            "Requirement already satisfied: libclang>=13.0.0 in /usr/local/lib/python3.10/dist-packages (from tensorflow) (16.0.6)\n",
            "Requirement already satisfied: ml-dtypes==0.2.0 in /usr/local/lib/python3.10/dist-packages (from tensorflow) (0.2.0)\n",
            "Requirement already satisfied: numpy>=1.23.5 in /usr/local/lib/python3.10/dist-packages (from tensorflow) (1.23.5)\n",
            "Requirement already satisfied: opt-einsum>=2.3.2 in /usr/local/lib/python3.10/dist-packages (from tensorflow) (3.3.0)\n",
            "Requirement already satisfied: packaging in /usr/local/lib/python3.10/dist-packages (from tensorflow) (23.2)\n",
            "Requirement already satisfied: protobuf!=4.21.0,!=4.21.1,!=4.21.2,!=4.21.3,!=4.21.4,!=4.21.5,<5.0.0dev,>=3.20.3 in /usr/local/lib/python3.10/dist-packages (from tensorflow) (3.20.3)\n",
            "Requirement already satisfied: setuptools in /usr/local/lib/python3.10/dist-packages (from tensorflow) (67.7.2)\n",
            "Requirement already satisfied: six>=1.12.0 in /usr/local/lib/python3.10/dist-packages (from tensorflow) (1.16.0)\n",
            "Requirement already satisfied: termcolor>=1.1.0 in /usr/local/lib/python3.10/dist-packages (from tensorflow) (2.3.0)\n",
            "Requirement already satisfied: typing-extensions>=3.6.6 in /usr/local/lib/python3.10/dist-packages (from tensorflow) (4.5.0)\n",
            "Requirement already satisfied: wrapt<1.15,>=1.11.0 in /usr/local/lib/python3.10/dist-packages (from tensorflow) (1.14.1)\n",
            "Requirement already satisfied: tensorflow-io-gcs-filesystem>=0.23.1 in /usr/local/lib/python3.10/dist-packages (from tensorflow) (0.34.0)\n",
            "Requirement already satisfied: grpcio<2.0,>=1.24.3 in /usr/local/lib/python3.10/dist-packages (from tensorflow) (1.59.2)\n",
            "Requirement already satisfied: tensorboard<2.15,>=2.14 in /usr/local/lib/python3.10/dist-packages (from tensorflow) (2.14.1)\n",
            "Requirement already satisfied: tensorflow-estimator<2.15,>=2.14.0 in /usr/local/lib/python3.10/dist-packages (from tensorflow) (2.14.0)\n",
            "Requirement already satisfied: keras<2.15,>=2.14.0 in /usr/local/lib/python3.10/dist-packages (from tensorflow) (2.14.0)\n",
            "Requirement already satisfied: python-dateutil>=2.8.1 in /usr/local/lib/python3.10/dist-packages (from pandas) (2.8.2)\n",
            "Requirement already satisfied: pytz>=2020.1 in /usr/local/lib/python3.10/dist-packages (from pandas) (2023.3.post1)\n",
            "Requirement already satisfied: contourpy>=1.0.1 in /usr/local/lib/python3.10/dist-packages (from matplotlib) (1.2.0)\n",
            "Requirement already satisfied: cycler>=0.10 in /usr/local/lib/python3.10/dist-packages (from matplotlib) (0.12.1)\n",
            "Requirement already satisfied: fonttools>=4.22.0 in /usr/local/lib/python3.10/dist-packages (from matplotlib) (4.44.3)\n",
            "Requirement already satisfied: kiwisolver>=1.0.1 in /usr/local/lib/python3.10/dist-packages (from matplotlib) (1.4.5)\n",
            "Requirement already satisfied: pillow>=6.2.0 in /usr/local/lib/python3.10/dist-packages (from matplotlib) (9.4.0)\n",
            "Requirement already satisfied: pyparsing>=2.3.1 in /usr/local/lib/python3.10/dist-packages (from matplotlib) (3.1.1)\n",
            "Requirement already satisfied: scipy>=1.3.2 in /usr/local/lib/python3.10/dist-packages (from scikit-learn) (1.11.3)\n",
            "Requirement already satisfied: joblib>=1.1.1 in /usr/local/lib/python3.10/dist-packages (from scikit-learn) (1.3.2)\n",
            "Requirement already satisfied: threadpoolctl>=2.0.0 in /usr/local/lib/python3.10/dist-packages (from scikit-learn) (3.2.0)\n",
            "Requirement already satisfied: wheel<1.0,>=0.23.0 in /usr/local/lib/python3.10/dist-packages (from astunparse>=1.6.0->tensorflow) (0.41.3)\n",
            "Requirement already satisfied: google-auth<3,>=1.6.3 in /usr/local/lib/python3.10/dist-packages (from tensorboard<2.15,>=2.14->tensorflow) (2.17.3)\n",
            "Requirement already satisfied: google-auth-oauthlib<1.1,>=0.5 in /usr/local/lib/python3.10/dist-packages (from tensorboard<2.15,>=2.14->tensorflow) (1.0.0)\n",
            "Requirement already satisfied: markdown>=2.6.8 in /usr/local/lib/python3.10/dist-packages (from tensorboard<2.15,>=2.14->tensorflow) (3.5.1)\n",
            "Requirement already satisfied: requests<3,>=2.21.0 in /usr/local/lib/python3.10/dist-packages (from tensorboard<2.15,>=2.14->tensorflow) (2.31.0)\n",
            "Requirement already satisfied: tensorboard-data-server<0.8.0,>=0.7.0 in /usr/local/lib/python3.10/dist-packages (from tensorboard<2.15,>=2.14->tensorflow) (0.7.2)\n",
            "Requirement already satisfied: werkzeug>=1.0.1 in /usr/local/lib/python3.10/dist-packages (from tensorboard<2.15,>=2.14->tensorflow) (3.0.1)\n",
            "Requirement already satisfied: cachetools<6.0,>=2.0.0 in /usr/local/lib/python3.10/dist-packages (from google-auth<3,>=1.6.3->tensorboard<2.15,>=2.14->tensorflow) (5.3.2)\n",
            "Requirement already satisfied: pyasn1-modules>=0.2.1 in /usr/local/lib/python3.10/dist-packages (from google-auth<3,>=1.6.3->tensorboard<2.15,>=2.14->tensorflow) (0.3.0)\n",
            "Requirement already satisfied: rsa<5,>=3.1.4 in /usr/local/lib/python3.10/dist-packages (from google-auth<3,>=1.6.3->tensorboard<2.15,>=2.14->tensorflow) (4.9)\n",
            "Requirement already satisfied: requests-oauthlib>=0.7.0 in /usr/local/lib/python3.10/dist-packages (from google-auth-oauthlib<1.1,>=0.5->tensorboard<2.15,>=2.14->tensorflow) (1.3.1)\n",
            "Requirement already satisfied: charset-normalizer<4,>=2 in /usr/local/lib/python3.10/dist-packages (from requests<3,>=2.21.0->tensorboard<2.15,>=2.14->tensorflow) (3.3.2)\n",
            "Requirement already satisfied: idna<4,>=2.5 in /usr/local/lib/python3.10/dist-packages (from requests<3,>=2.21.0->tensorboard<2.15,>=2.14->tensorflow) (3.4)\n",
            "Requirement already satisfied: urllib3<3,>=1.21.1 in /usr/local/lib/python3.10/dist-packages (from requests<3,>=2.21.0->tensorboard<2.15,>=2.14->tensorflow) (2.0.7)\n",
            "Requirement already satisfied: certifi>=2017.4.17 in /usr/local/lib/python3.10/dist-packages (from requests<3,>=2.21.0->tensorboard<2.15,>=2.14->tensorflow) (2023.7.22)\n",
            "Requirement already satisfied: MarkupSafe>=2.1.1 in /usr/local/lib/python3.10/dist-packages (from werkzeug>=1.0.1->tensorboard<2.15,>=2.14->tensorflow) (2.1.3)\n",
            "Requirement already satisfied: pyasn1<0.6.0,>=0.4.6 in /usr/local/lib/python3.10/dist-packages (from pyasn1-modules>=0.2.1->google-auth<3,>=1.6.3->tensorboard<2.15,>=2.14->tensorflow) (0.5.0)\n",
            "Requirement already satisfied: oauthlib>=3.0.0 in /usr/local/lib/python3.10/dist-packages (from requests-oauthlib>=0.7.0->google-auth-oauthlib<1.1,>=0.5->tensorboard<2.15,>=2.14->tensorflow) (3.2.2)\n"
          ]
        }
      ],
      "source": [
        "!pip install tensorflow pandas matplotlib scikit-learn"
      ]
    },
    {
      "cell_type": "code",
      "execution_count": null,
      "metadata": {
        "tags": [],
        "id": "pb881hOT2QQB"
      },
      "outputs": [],
      "source": [
        "import os\n",
        "import pandas as pd\n",
        "import tensorflow as tf\n",
        "import numpy as np"
      ]
    },
    {
      "cell_type": "code",
      "source": [
        "# Vérifie la disponibilité d'un GPU\n",
        "print(\"GPUs disponibles : \", tf.config.list_physical_devices('GPU'))"
      ],
      "metadata": {
        "colab": {
          "base_uri": "https://localhost:8080/"
        },
        "id": "ybeuuz3F4Y_T",
        "outputId": "80282c57-bc1f-42fd-8f8b-b539e2759d56"
      },
      "execution_count": null,
      "outputs": [
        {
          "output_type": "stream",
          "name": "stdout",
          "text": [
            "GPUs disponibles :  [PhysicalDevice(name='/physical_device:GPU:0', device_type='GPU')]\n"
          ]
        }
      ]
    },
    {
      "cell_type": "markdown",
      "source": [
        "##  Etape 2 : Chargement du Dataset"
      ],
      "metadata": {
        "id": "Jqn55gvP3Uzs"
      }
    },
    {
      "cell_type": "code",
      "source": [
        "from google.colab import drive\n",
        "drive.mount('/content/drive')"
      ],
      "metadata": {
        "colab": {
          "base_uri": "https://localhost:8080/"
        },
        "id": "ZGWEa2Ec9CYv",
        "outputId": "ded25b2a-cf8a-48e0-bf6b-2b802fff8c9a"
      },
      "execution_count": null,
      "outputs": [
        {
          "output_type": "stream",
          "name": "stdout",
          "text": [
            "Mounted at /content/drive\n"
          ]
        }
      ]
    },
    {
      "cell_type": "code",
      "source": [
        "for dirname, _, filenames in os.walk('/content/drive/MyDrive/Cours/L3/L2 - Projet/chat gpt/jigsaw-toxic-comment-classification-challenge/train.csv/train.csv'):\n",
        "  for filename in filenames:\n",
        "    print(os.path.join(dirname, filename))"
      ],
      "metadata": {
        "id": "q0tANOpzCdWt"
      },
      "execution_count": null,
      "outputs": []
    },
    {
      "cell_type": "code",
      "execution_count": null,
      "metadata": {
        "tags": [],
        "id": "jNvZx52m2QQB"
      },
      "outputs": [],
      "source": [
        "df = pd.read_csv(\"/content/drive/MyDrive/Cours/L3/L2 - Projet/chat gpt/jigsaw-toxic-comment-classification-challenge/train.csv/train.csv\")\n"
      ]
    },
    {
      "cell_type": "markdown",
      "source": [
        "##  Etape 3 : Préparation des données\n"
      ],
      "metadata": {
        "id": "YkJrTrGD3atv"
      }
    },
    {
      "cell_type": "markdown",
      "source": [
        "### A) Exploration des données\n",
        "\n",
        "- `corpus` : Ensemble de données textuelles (en langue anglaise), spécifiquement des commentaires en ligne. Ces données proviennent de diverses sources publiques, offrant un large éventail de styles de communication, de tonalités et de contextes.\n",
        "\n",
        "- `données` : Textes non structurés, composés de phrases, d'expressions et de mots utilisés dans les interactions en ligne. Ces données incluent une gamme de commentaires, allant de ceux considérés comme normaux et inoffensifs à ceux classifiés comme toxiques, sévèrement toxique, obscène, etc (6 labels au total)."
      ],
      "metadata": {
        "id": "KlqJE8WWt1p6"
      }
    },
    {
      "cell_type": "code",
      "source": [
        "# observation du dataset\n",
        "df"
      ],
      "metadata": {
        "id": "dl5_h_3oJ908",
        "colab": {
          "base_uri": "https://localhost:8080/",
          "height": 424
        },
        "outputId": "23fbec58-fffe-4d94-b1c1-670f9ade618e"
      },
      "execution_count": null,
      "outputs": [
        {
          "output_type": "execute_result",
          "data": {
            "text/plain": [
              "                      id                                       comment_text  \\\n",
              "0       0000997932d777bf  Explanation\\nWhy the edits made under my usern...   \n",
              "1       000103f0d9cfb60f  D'aww! He matches this background colour I'm s...   \n",
              "2       000113f07ec002fd  Hey man, I'm really not trying to edit war. It...   \n",
              "3       0001b41b1c6bb37e  \"\\nMore\\nI can't make any real suggestions on ...   \n",
              "4       0001d958c54c6e35  You, sir, are my hero. Any chance you remember...   \n",
              "...                  ...                                                ...   \n",
              "159566  ffe987279560d7ff  \":::::And for the second time of asking, when ...   \n",
              "159567  ffea4adeee384e90  You should be ashamed of yourself \\n\\nThat is ...   \n",
              "159568  ffee36eab5c267c9  Spitzer \\n\\nUmm, theres no actual article for ...   \n",
              "159569  fff125370e4aaaf3  And it looks like it was actually you who put ...   \n",
              "159570  fff46fc426af1f9a  \"\\nAnd ... I really don't think you understand...   \n",
              "\n",
              "        toxic  severe_toxic  obscene  threat  insult  identity_hate  \n",
              "0           0             0        0       0       0              0  \n",
              "1           0             0        0       0       0              0  \n",
              "2           0             0        0       0       0              0  \n",
              "3           0             0        0       0       0              0  \n",
              "4           0             0        0       0       0              0  \n",
              "...       ...           ...      ...     ...     ...            ...  \n",
              "159566      0             0        0       0       0              0  \n",
              "159567      0             0        0       0       0              0  \n",
              "159568      0             0        0       0       0              0  \n",
              "159569      0             0        0       0       0              0  \n",
              "159570      0             0        0       0       0              0  \n",
              "\n",
              "[159571 rows x 8 columns]"
            ],
            "text/html": [
              "\n",
              "  <div id=\"df-d3c286d5-c103-4249-992d-083b06ae34a1\" class=\"colab-df-container\">\n",
              "    <div>\n",
              "<style scoped>\n",
              "    .dataframe tbody tr th:only-of-type {\n",
              "        vertical-align: middle;\n",
              "    }\n",
              "\n",
              "    .dataframe tbody tr th {\n",
              "        vertical-align: top;\n",
              "    }\n",
              "\n",
              "    .dataframe thead th {\n",
              "        text-align: right;\n",
              "    }\n",
              "</style>\n",
              "<table border=\"1\" class=\"dataframe\">\n",
              "  <thead>\n",
              "    <tr style=\"text-align: right;\">\n",
              "      <th></th>\n",
              "      <th>id</th>\n",
              "      <th>comment_text</th>\n",
              "      <th>toxic</th>\n",
              "      <th>severe_toxic</th>\n",
              "      <th>obscene</th>\n",
              "      <th>threat</th>\n",
              "      <th>insult</th>\n",
              "      <th>identity_hate</th>\n",
              "    </tr>\n",
              "  </thead>\n",
              "  <tbody>\n",
              "    <tr>\n",
              "      <th>0</th>\n",
              "      <td>0000997932d777bf</td>\n",
              "      <td>Explanation\\nWhy the edits made under my usern...</td>\n",
              "      <td>0</td>\n",
              "      <td>0</td>\n",
              "      <td>0</td>\n",
              "      <td>0</td>\n",
              "      <td>0</td>\n",
              "      <td>0</td>\n",
              "    </tr>\n",
              "    <tr>\n",
              "      <th>1</th>\n",
              "      <td>000103f0d9cfb60f</td>\n",
              "      <td>D'aww! He matches this background colour I'm s...</td>\n",
              "      <td>0</td>\n",
              "      <td>0</td>\n",
              "      <td>0</td>\n",
              "      <td>0</td>\n",
              "      <td>0</td>\n",
              "      <td>0</td>\n",
              "    </tr>\n",
              "    <tr>\n",
              "      <th>2</th>\n",
              "      <td>000113f07ec002fd</td>\n",
              "      <td>Hey man, I'm really not trying to edit war. It...</td>\n",
              "      <td>0</td>\n",
              "      <td>0</td>\n",
              "      <td>0</td>\n",
              "      <td>0</td>\n",
              "      <td>0</td>\n",
              "      <td>0</td>\n",
              "    </tr>\n",
              "    <tr>\n",
              "      <th>3</th>\n",
              "      <td>0001b41b1c6bb37e</td>\n",
              "      <td>\"\\nMore\\nI can't make any real suggestions on ...</td>\n",
              "      <td>0</td>\n",
              "      <td>0</td>\n",
              "      <td>0</td>\n",
              "      <td>0</td>\n",
              "      <td>0</td>\n",
              "      <td>0</td>\n",
              "    </tr>\n",
              "    <tr>\n",
              "      <th>4</th>\n",
              "      <td>0001d958c54c6e35</td>\n",
              "      <td>You, sir, are my hero. Any chance you remember...</td>\n",
              "      <td>0</td>\n",
              "      <td>0</td>\n",
              "      <td>0</td>\n",
              "      <td>0</td>\n",
              "      <td>0</td>\n",
              "      <td>0</td>\n",
              "    </tr>\n",
              "    <tr>\n",
              "      <th>...</th>\n",
              "      <td>...</td>\n",
              "      <td>...</td>\n",
              "      <td>...</td>\n",
              "      <td>...</td>\n",
              "      <td>...</td>\n",
              "      <td>...</td>\n",
              "      <td>...</td>\n",
              "      <td>...</td>\n",
              "    </tr>\n",
              "    <tr>\n",
              "      <th>159566</th>\n",
              "      <td>ffe987279560d7ff</td>\n",
              "      <td>\":::::And for the second time of asking, when ...</td>\n",
              "      <td>0</td>\n",
              "      <td>0</td>\n",
              "      <td>0</td>\n",
              "      <td>0</td>\n",
              "      <td>0</td>\n",
              "      <td>0</td>\n",
              "    </tr>\n",
              "    <tr>\n",
              "      <th>159567</th>\n",
              "      <td>ffea4adeee384e90</td>\n",
              "      <td>You should be ashamed of yourself \\n\\nThat is ...</td>\n",
              "      <td>0</td>\n",
              "      <td>0</td>\n",
              "      <td>0</td>\n",
              "      <td>0</td>\n",
              "      <td>0</td>\n",
              "      <td>0</td>\n",
              "    </tr>\n",
              "    <tr>\n",
              "      <th>159568</th>\n",
              "      <td>ffee36eab5c267c9</td>\n",
              "      <td>Spitzer \\n\\nUmm, theres no actual article for ...</td>\n",
              "      <td>0</td>\n",
              "      <td>0</td>\n",
              "      <td>0</td>\n",
              "      <td>0</td>\n",
              "      <td>0</td>\n",
              "      <td>0</td>\n",
              "    </tr>\n",
              "    <tr>\n",
              "      <th>159569</th>\n",
              "      <td>fff125370e4aaaf3</td>\n",
              "      <td>And it looks like it was actually you who put ...</td>\n",
              "      <td>0</td>\n",
              "      <td>0</td>\n",
              "      <td>0</td>\n",
              "      <td>0</td>\n",
              "      <td>0</td>\n",
              "      <td>0</td>\n",
              "    </tr>\n",
              "    <tr>\n",
              "      <th>159570</th>\n",
              "      <td>fff46fc426af1f9a</td>\n",
              "      <td>\"\\nAnd ... I really don't think you understand...</td>\n",
              "      <td>0</td>\n",
              "      <td>0</td>\n",
              "      <td>0</td>\n",
              "      <td>0</td>\n",
              "      <td>0</td>\n",
              "      <td>0</td>\n",
              "    </tr>\n",
              "  </tbody>\n",
              "</table>\n",
              "<p>159571 rows × 8 columns</p>\n",
              "</div>\n",
              "    <div class=\"colab-df-buttons\">\n",
              "\n",
              "  <div class=\"colab-df-container\">\n",
              "    <button class=\"colab-df-convert\" onclick=\"convertToInteractive('df-d3c286d5-c103-4249-992d-083b06ae34a1')\"\n",
              "            title=\"Convert this dataframe to an interactive table.\"\n",
              "            style=\"display:none;\">\n",
              "\n",
              "  <svg xmlns=\"http://www.w3.org/2000/svg\" height=\"24px\" viewBox=\"0 -960 960 960\">\n",
              "    <path d=\"M120-120v-720h720v720H120Zm60-500h600v-160H180v160Zm220 220h160v-160H400v160Zm0 220h160v-160H400v160ZM180-400h160v-160H180v160Zm440 0h160v-160H620v160ZM180-180h160v-160H180v160Zm440 0h160v-160H620v160Z\"/>\n",
              "  </svg>\n",
              "    </button>\n",
              "\n",
              "  <style>\n",
              "    .colab-df-container {\n",
              "      display:flex;\n",
              "      gap: 12px;\n",
              "    }\n",
              "\n",
              "    .colab-df-convert {\n",
              "      background-color: #E8F0FE;\n",
              "      border: none;\n",
              "      border-radius: 50%;\n",
              "      cursor: pointer;\n",
              "      display: none;\n",
              "      fill: #1967D2;\n",
              "      height: 32px;\n",
              "      padding: 0 0 0 0;\n",
              "      width: 32px;\n",
              "    }\n",
              "\n",
              "    .colab-df-convert:hover {\n",
              "      background-color: #E2EBFA;\n",
              "      box-shadow: 0px 1px 2px rgba(60, 64, 67, 0.3), 0px 1px 3px 1px rgba(60, 64, 67, 0.15);\n",
              "      fill: #174EA6;\n",
              "    }\n",
              "\n",
              "    .colab-df-buttons div {\n",
              "      margin-bottom: 4px;\n",
              "    }\n",
              "\n",
              "    [theme=dark] .colab-df-convert {\n",
              "      background-color: #3B4455;\n",
              "      fill: #D2E3FC;\n",
              "    }\n",
              "\n",
              "    [theme=dark] .colab-df-convert:hover {\n",
              "      background-color: #434B5C;\n",
              "      box-shadow: 0px 1px 3px 1px rgba(0, 0, 0, 0.15);\n",
              "      filter: drop-shadow(0px 1px 2px rgba(0, 0, 0, 0.3));\n",
              "      fill: #FFFFFF;\n",
              "    }\n",
              "  </style>\n",
              "\n",
              "    <script>\n",
              "      const buttonEl =\n",
              "        document.querySelector('#df-d3c286d5-c103-4249-992d-083b06ae34a1 button.colab-df-convert');\n",
              "      buttonEl.style.display =\n",
              "        google.colab.kernel.accessAllowed ? 'block' : 'none';\n",
              "\n",
              "      async function convertToInteractive(key) {\n",
              "        const element = document.querySelector('#df-d3c286d5-c103-4249-992d-083b06ae34a1');\n",
              "        const dataTable =\n",
              "          await google.colab.kernel.invokeFunction('convertToInteractive',\n",
              "                                                    [key], {});\n",
              "        if (!dataTable) return;\n",
              "\n",
              "        const docLinkHtml = 'Like what you see? Visit the ' +\n",
              "          '<a target=\"_blank\" href=https://colab.research.google.com/notebooks/data_table.ipynb>data table notebook</a>'\n",
              "          + ' to learn more about interactive tables.';\n",
              "        element.innerHTML = '';\n",
              "        dataTable['output_type'] = 'display_data';\n",
              "        await google.colab.output.renderOutput(dataTable, element);\n",
              "        const docLink = document.createElement('div');\n",
              "        docLink.innerHTML = docLinkHtml;\n",
              "        element.appendChild(docLink);\n",
              "      }\n",
              "    </script>\n",
              "  </div>\n",
              "\n",
              "\n",
              "<div id=\"df-4a9c9548-429e-4575-a359-35b8e1fb11ba\">\n",
              "  <button class=\"colab-df-quickchart\" onclick=\"quickchart('df-4a9c9548-429e-4575-a359-35b8e1fb11ba')\"\n",
              "            title=\"Suggest charts\"\n",
              "            style=\"display:none;\">\n",
              "\n",
              "<svg xmlns=\"http://www.w3.org/2000/svg\" height=\"24px\"viewBox=\"0 0 24 24\"\n",
              "     width=\"24px\">\n",
              "    <g>\n",
              "        <path d=\"M19 3H5c-1.1 0-2 .9-2 2v14c0 1.1.9 2 2 2h14c1.1 0 2-.9 2-2V5c0-1.1-.9-2-2-2zM9 17H7v-7h2v7zm4 0h-2V7h2v10zm4 0h-2v-4h2v4z\"/>\n",
              "    </g>\n",
              "</svg>\n",
              "  </button>\n",
              "\n",
              "<style>\n",
              "  .colab-df-quickchart {\n",
              "      --bg-color: #E8F0FE;\n",
              "      --fill-color: #1967D2;\n",
              "      --hover-bg-color: #E2EBFA;\n",
              "      --hover-fill-color: #174EA6;\n",
              "      --disabled-fill-color: #AAA;\n",
              "      --disabled-bg-color: #DDD;\n",
              "  }\n",
              "\n",
              "  [theme=dark] .colab-df-quickchart {\n",
              "      --bg-color: #3B4455;\n",
              "      --fill-color: #D2E3FC;\n",
              "      --hover-bg-color: #434B5C;\n",
              "      --hover-fill-color: #FFFFFF;\n",
              "      --disabled-bg-color: #3B4455;\n",
              "      --disabled-fill-color: #666;\n",
              "  }\n",
              "\n",
              "  .colab-df-quickchart {\n",
              "    background-color: var(--bg-color);\n",
              "    border: none;\n",
              "    border-radius: 50%;\n",
              "    cursor: pointer;\n",
              "    display: none;\n",
              "    fill: var(--fill-color);\n",
              "    height: 32px;\n",
              "    padding: 0;\n",
              "    width: 32px;\n",
              "  }\n",
              "\n",
              "  .colab-df-quickchart:hover {\n",
              "    background-color: var(--hover-bg-color);\n",
              "    box-shadow: 0 1px 2px rgba(60, 64, 67, 0.3), 0 1px 3px 1px rgba(60, 64, 67, 0.15);\n",
              "    fill: var(--button-hover-fill-color);\n",
              "  }\n",
              "\n",
              "  .colab-df-quickchart-complete:disabled,\n",
              "  .colab-df-quickchart-complete:disabled:hover {\n",
              "    background-color: var(--disabled-bg-color);\n",
              "    fill: var(--disabled-fill-color);\n",
              "    box-shadow: none;\n",
              "  }\n",
              "\n",
              "  .colab-df-spinner {\n",
              "    border: 2px solid var(--fill-color);\n",
              "    border-color: transparent;\n",
              "    border-bottom-color: var(--fill-color);\n",
              "    animation:\n",
              "      spin 1s steps(1) infinite;\n",
              "  }\n",
              "\n",
              "  @keyframes spin {\n",
              "    0% {\n",
              "      border-color: transparent;\n",
              "      border-bottom-color: var(--fill-color);\n",
              "      border-left-color: var(--fill-color);\n",
              "    }\n",
              "    20% {\n",
              "      border-color: transparent;\n",
              "      border-left-color: var(--fill-color);\n",
              "      border-top-color: var(--fill-color);\n",
              "    }\n",
              "    30% {\n",
              "      border-color: transparent;\n",
              "      border-left-color: var(--fill-color);\n",
              "      border-top-color: var(--fill-color);\n",
              "      border-right-color: var(--fill-color);\n",
              "    }\n",
              "    40% {\n",
              "      border-color: transparent;\n",
              "      border-right-color: var(--fill-color);\n",
              "      border-top-color: var(--fill-color);\n",
              "    }\n",
              "    60% {\n",
              "      border-color: transparent;\n",
              "      border-right-color: var(--fill-color);\n",
              "    }\n",
              "    80% {\n",
              "      border-color: transparent;\n",
              "      border-right-color: var(--fill-color);\n",
              "      border-bottom-color: var(--fill-color);\n",
              "    }\n",
              "    90% {\n",
              "      border-color: transparent;\n",
              "      border-bottom-color: var(--fill-color);\n",
              "    }\n",
              "  }\n",
              "</style>\n",
              "\n",
              "  <script>\n",
              "    async function quickchart(key) {\n",
              "      const quickchartButtonEl =\n",
              "        document.querySelector('#' + key + ' button');\n",
              "      quickchartButtonEl.disabled = true;  // To prevent multiple clicks.\n",
              "      quickchartButtonEl.classList.add('colab-df-spinner');\n",
              "      try {\n",
              "        const charts = await google.colab.kernel.invokeFunction(\n",
              "            'suggestCharts', [key], {});\n",
              "      } catch (error) {\n",
              "        console.error('Error during call to suggestCharts:', error);\n",
              "      }\n",
              "      quickchartButtonEl.classList.remove('colab-df-spinner');\n",
              "      quickchartButtonEl.classList.add('colab-df-quickchart-complete');\n",
              "    }\n",
              "    (() => {\n",
              "      let quickchartButtonEl =\n",
              "        document.querySelector('#df-4a9c9548-429e-4575-a359-35b8e1fb11ba button');\n",
              "      quickchartButtonEl.style.display =\n",
              "        google.colab.kernel.accessAllowed ? 'block' : 'none';\n",
              "    })();\n",
              "  </script>\n",
              "</div>\n",
              "    </div>\n",
              "  </div>\n"
            ]
          },
          "metadata": {},
          "execution_count": 10
        }
      ]
    },
    {
      "cell_type": "code",
      "source": [
        "df.info()"
      ],
      "metadata": {
        "id": "6NkDvp7sm9LY",
        "colab": {
          "base_uri": "https://localhost:8080/"
        },
        "outputId": "cfac2b68-473d-4274-b49e-7edf9f6290c9"
      },
      "execution_count": null,
      "outputs": [
        {
          "output_type": "stream",
          "name": "stdout",
          "text": [
            "<class 'pandas.core.frame.DataFrame'>\n",
            "RangeIndex: 159571 entries, 0 to 159570\n",
            "Data columns (total 8 columns):\n",
            " #   Column         Non-Null Count   Dtype \n",
            "---  ------         --------------   ----- \n",
            " 0   id             159571 non-null  object\n",
            " 1   comment_text   159571 non-null  object\n",
            " 2   toxic          159571 non-null  int64 \n",
            " 3   severe_toxic   159571 non-null  int64 \n",
            " 4   obscene        159571 non-null  int64 \n",
            " 5   threat         159571 non-null  int64 \n",
            " 6   insult         159571 non-null  int64 \n",
            " 7   identity_hate  159571 non-null  int64 \n",
            "dtypes: int64(6), object(2)\n",
            "memory usage: 9.7+ MB\n"
          ]
        }
      ]
    },
    {
      "cell_type": "code",
      "source": [
        "df.describe()"
      ],
      "metadata": {
        "id": "fGnsE41unAsC",
        "colab": {
          "base_uri": "https://localhost:8080/",
          "height": 300
        },
        "outputId": "466f9c5f-e039-4f39-d379-a5127c91d4bd"
      },
      "execution_count": null,
      "outputs": [
        {
          "output_type": "execute_result",
          "data": {
            "text/plain": [
              "               toxic   severe_toxic        obscene         threat  \\\n",
              "count  159571.000000  159571.000000  159571.000000  159571.000000   \n",
              "mean        0.095844       0.009996       0.052948       0.002996   \n",
              "std         0.294379       0.099477       0.223931       0.054650   \n",
              "min         0.000000       0.000000       0.000000       0.000000   \n",
              "25%         0.000000       0.000000       0.000000       0.000000   \n",
              "50%         0.000000       0.000000       0.000000       0.000000   \n",
              "75%         0.000000       0.000000       0.000000       0.000000   \n",
              "max         1.000000       1.000000       1.000000       1.000000   \n",
              "\n",
              "              insult  identity_hate  \n",
              "count  159571.000000  159571.000000  \n",
              "mean        0.049364       0.008805  \n",
              "std         0.216627       0.093420  \n",
              "min         0.000000       0.000000  \n",
              "25%         0.000000       0.000000  \n",
              "50%         0.000000       0.000000  \n",
              "75%         0.000000       0.000000  \n",
              "max         1.000000       1.000000  "
            ],
            "text/html": [
              "\n",
              "  <div id=\"df-c64f7d04-17c7-421a-bd77-d96a56cc9603\" class=\"colab-df-container\">\n",
              "    <div>\n",
              "<style scoped>\n",
              "    .dataframe tbody tr th:only-of-type {\n",
              "        vertical-align: middle;\n",
              "    }\n",
              "\n",
              "    .dataframe tbody tr th {\n",
              "        vertical-align: top;\n",
              "    }\n",
              "\n",
              "    .dataframe thead th {\n",
              "        text-align: right;\n",
              "    }\n",
              "</style>\n",
              "<table border=\"1\" class=\"dataframe\">\n",
              "  <thead>\n",
              "    <tr style=\"text-align: right;\">\n",
              "      <th></th>\n",
              "      <th>toxic</th>\n",
              "      <th>severe_toxic</th>\n",
              "      <th>obscene</th>\n",
              "      <th>threat</th>\n",
              "      <th>insult</th>\n",
              "      <th>identity_hate</th>\n",
              "    </tr>\n",
              "  </thead>\n",
              "  <tbody>\n",
              "    <tr>\n",
              "      <th>count</th>\n",
              "      <td>159571.000000</td>\n",
              "      <td>159571.000000</td>\n",
              "      <td>159571.000000</td>\n",
              "      <td>159571.000000</td>\n",
              "      <td>159571.000000</td>\n",
              "      <td>159571.000000</td>\n",
              "    </tr>\n",
              "    <tr>\n",
              "      <th>mean</th>\n",
              "      <td>0.095844</td>\n",
              "      <td>0.009996</td>\n",
              "      <td>0.052948</td>\n",
              "      <td>0.002996</td>\n",
              "      <td>0.049364</td>\n",
              "      <td>0.008805</td>\n",
              "    </tr>\n",
              "    <tr>\n",
              "      <th>std</th>\n",
              "      <td>0.294379</td>\n",
              "      <td>0.099477</td>\n",
              "      <td>0.223931</td>\n",
              "      <td>0.054650</td>\n",
              "      <td>0.216627</td>\n",
              "      <td>0.093420</td>\n",
              "    </tr>\n",
              "    <tr>\n",
              "      <th>min</th>\n",
              "      <td>0.000000</td>\n",
              "      <td>0.000000</td>\n",
              "      <td>0.000000</td>\n",
              "      <td>0.000000</td>\n",
              "      <td>0.000000</td>\n",
              "      <td>0.000000</td>\n",
              "    </tr>\n",
              "    <tr>\n",
              "      <th>25%</th>\n",
              "      <td>0.000000</td>\n",
              "      <td>0.000000</td>\n",
              "      <td>0.000000</td>\n",
              "      <td>0.000000</td>\n",
              "      <td>0.000000</td>\n",
              "      <td>0.000000</td>\n",
              "    </tr>\n",
              "    <tr>\n",
              "      <th>50%</th>\n",
              "      <td>0.000000</td>\n",
              "      <td>0.000000</td>\n",
              "      <td>0.000000</td>\n",
              "      <td>0.000000</td>\n",
              "      <td>0.000000</td>\n",
              "      <td>0.000000</td>\n",
              "    </tr>\n",
              "    <tr>\n",
              "      <th>75%</th>\n",
              "      <td>0.000000</td>\n",
              "      <td>0.000000</td>\n",
              "      <td>0.000000</td>\n",
              "      <td>0.000000</td>\n",
              "      <td>0.000000</td>\n",
              "      <td>0.000000</td>\n",
              "    </tr>\n",
              "    <tr>\n",
              "      <th>max</th>\n",
              "      <td>1.000000</td>\n",
              "      <td>1.000000</td>\n",
              "      <td>1.000000</td>\n",
              "      <td>1.000000</td>\n",
              "      <td>1.000000</td>\n",
              "      <td>1.000000</td>\n",
              "    </tr>\n",
              "  </tbody>\n",
              "</table>\n",
              "</div>\n",
              "    <div class=\"colab-df-buttons\">\n",
              "\n",
              "  <div class=\"colab-df-container\">\n",
              "    <button class=\"colab-df-convert\" onclick=\"convertToInteractive('df-c64f7d04-17c7-421a-bd77-d96a56cc9603')\"\n",
              "            title=\"Convert this dataframe to an interactive table.\"\n",
              "            style=\"display:none;\">\n",
              "\n",
              "  <svg xmlns=\"http://www.w3.org/2000/svg\" height=\"24px\" viewBox=\"0 -960 960 960\">\n",
              "    <path d=\"M120-120v-720h720v720H120Zm60-500h600v-160H180v160Zm220 220h160v-160H400v160Zm0 220h160v-160H400v160ZM180-400h160v-160H180v160Zm440 0h160v-160H620v160ZM180-180h160v-160H180v160Zm440 0h160v-160H620v160Z\"/>\n",
              "  </svg>\n",
              "    </button>\n",
              "\n",
              "  <style>\n",
              "    .colab-df-container {\n",
              "      display:flex;\n",
              "      gap: 12px;\n",
              "    }\n",
              "\n",
              "    .colab-df-convert {\n",
              "      background-color: #E8F0FE;\n",
              "      border: none;\n",
              "      border-radius: 50%;\n",
              "      cursor: pointer;\n",
              "      display: none;\n",
              "      fill: #1967D2;\n",
              "      height: 32px;\n",
              "      padding: 0 0 0 0;\n",
              "      width: 32px;\n",
              "    }\n",
              "\n",
              "    .colab-df-convert:hover {\n",
              "      background-color: #E2EBFA;\n",
              "      box-shadow: 0px 1px 2px rgba(60, 64, 67, 0.3), 0px 1px 3px 1px rgba(60, 64, 67, 0.15);\n",
              "      fill: #174EA6;\n",
              "    }\n",
              "\n",
              "    .colab-df-buttons div {\n",
              "      margin-bottom: 4px;\n",
              "    }\n",
              "\n",
              "    [theme=dark] .colab-df-convert {\n",
              "      background-color: #3B4455;\n",
              "      fill: #D2E3FC;\n",
              "    }\n",
              "\n",
              "    [theme=dark] .colab-df-convert:hover {\n",
              "      background-color: #434B5C;\n",
              "      box-shadow: 0px 1px 3px 1px rgba(0, 0, 0, 0.15);\n",
              "      filter: drop-shadow(0px 1px 2px rgba(0, 0, 0, 0.3));\n",
              "      fill: #FFFFFF;\n",
              "    }\n",
              "  </style>\n",
              "\n",
              "    <script>\n",
              "      const buttonEl =\n",
              "        document.querySelector('#df-c64f7d04-17c7-421a-bd77-d96a56cc9603 button.colab-df-convert');\n",
              "      buttonEl.style.display =\n",
              "        google.colab.kernel.accessAllowed ? 'block' : 'none';\n",
              "\n",
              "      async function convertToInteractive(key) {\n",
              "        const element = document.querySelector('#df-c64f7d04-17c7-421a-bd77-d96a56cc9603');\n",
              "        const dataTable =\n",
              "          await google.colab.kernel.invokeFunction('convertToInteractive',\n",
              "                                                    [key], {});\n",
              "        if (!dataTable) return;\n",
              "\n",
              "        const docLinkHtml = 'Like what you see? Visit the ' +\n",
              "          '<a target=\"_blank\" href=https://colab.research.google.com/notebooks/data_table.ipynb>data table notebook</a>'\n",
              "          + ' to learn more about interactive tables.';\n",
              "        element.innerHTML = '';\n",
              "        dataTable['output_type'] = 'display_data';\n",
              "        await google.colab.output.renderOutput(dataTable, element);\n",
              "        const docLink = document.createElement('div');\n",
              "        docLink.innerHTML = docLinkHtml;\n",
              "        element.appendChild(docLink);\n",
              "      }\n",
              "    </script>\n",
              "  </div>\n",
              "\n",
              "\n",
              "<div id=\"df-af91469a-408f-40a4-b64a-bc36259190a0\">\n",
              "  <button class=\"colab-df-quickchart\" onclick=\"quickchart('df-af91469a-408f-40a4-b64a-bc36259190a0')\"\n",
              "            title=\"Suggest charts\"\n",
              "            style=\"display:none;\">\n",
              "\n",
              "<svg xmlns=\"http://www.w3.org/2000/svg\" height=\"24px\"viewBox=\"0 0 24 24\"\n",
              "     width=\"24px\">\n",
              "    <g>\n",
              "        <path d=\"M19 3H5c-1.1 0-2 .9-2 2v14c0 1.1.9 2 2 2h14c1.1 0 2-.9 2-2V5c0-1.1-.9-2-2-2zM9 17H7v-7h2v7zm4 0h-2V7h2v10zm4 0h-2v-4h2v4z\"/>\n",
              "    </g>\n",
              "</svg>\n",
              "  </button>\n",
              "\n",
              "<style>\n",
              "  .colab-df-quickchart {\n",
              "      --bg-color: #E8F0FE;\n",
              "      --fill-color: #1967D2;\n",
              "      --hover-bg-color: #E2EBFA;\n",
              "      --hover-fill-color: #174EA6;\n",
              "      --disabled-fill-color: #AAA;\n",
              "      --disabled-bg-color: #DDD;\n",
              "  }\n",
              "\n",
              "  [theme=dark] .colab-df-quickchart {\n",
              "      --bg-color: #3B4455;\n",
              "      --fill-color: #D2E3FC;\n",
              "      --hover-bg-color: #434B5C;\n",
              "      --hover-fill-color: #FFFFFF;\n",
              "      --disabled-bg-color: #3B4455;\n",
              "      --disabled-fill-color: #666;\n",
              "  }\n",
              "\n",
              "  .colab-df-quickchart {\n",
              "    background-color: var(--bg-color);\n",
              "    border: none;\n",
              "    border-radius: 50%;\n",
              "    cursor: pointer;\n",
              "    display: none;\n",
              "    fill: var(--fill-color);\n",
              "    height: 32px;\n",
              "    padding: 0;\n",
              "    width: 32px;\n",
              "  }\n",
              "\n",
              "  .colab-df-quickchart:hover {\n",
              "    background-color: var(--hover-bg-color);\n",
              "    box-shadow: 0 1px 2px rgba(60, 64, 67, 0.3), 0 1px 3px 1px rgba(60, 64, 67, 0.15);\n",
              "    fill: var(--button-hover-fill-color);\n",
              "  }\n",
              "\n",
              "  .colab-df-quickchart-complete:disabled,\n",
              "  .colab-df-quickchart-complete:disabled:hover {\n",
              "    background-color: var(--disabled-bg-color);\n",
              "    fill: var(--disabled-fill-color);\n",
              "    box-shadow: none;\n",
              "  }\n",
              "\n",
              "  .colab-df-spinner {\n",
              "    border: 2px solid var(--fill-color);\n",
              "    border-color: transparent;\n",
              "    border-bottom-color: var(--fill-color);\n",
              "    animation:\n",
              "      spin 1s steps(1) infinite;\n",
              "  }\n",
              "\n",
              "  @keyframes spin {\n",
              "    0% {\n",
              "      border-color: transparent;\n",
              "      border-bottom-color: var(--fill-color);\n",
              "      border-left-color: var(--fill-color);\n",
              "    }\n",
              "    20% {\n",
              "      border-color: transparent;\n",
              "      border-left-color: var(--fill-color);\n",
              "      border-top-color: var(--fill-color);\n",
              "    }\n",
              "    30% {\n",
              "      border-color: transparent;\n",
              "      border-left-color: var(--fill-color);\n",
              "      border-top-color: var(--fill-color);\n",
              "      border-right-color: var(--fill-color);\n",
              "    }\n",
              "    40% {\n",
              "      border-color: transparent;\n",
              "      border-right-color: var(--fill-color);\n",
              "      border-top-color: var(--fill-color);\n",
              "    }\n",
              "    60% {\n",
              "      border-color: transparent;\n",
              "      border-right-color: var(--fill-color);\n",
              "    }\n",
              "    80% {\n",
              "      border-color: transparent;\n",
              "      border-right-color: var(--fill-color);\n",
              "      border-bottom-color: var(--fill-color);\n",
              "    }\n",
              "    90% {\n",
              "      border-color: transparent;\n",
              "      border-bottom-color: var(--fill-color);\n",
              "    }\n",
              "  }\n",
              "</style>\n",
              "\n",
              "  <script>\n",
              "    async function quickchart(key) {\n",
              "      const quickchartButtonEl =\n",
              "        document.querySelector('#' + key + ' button');\n",
              "      quickchartButtonEl.disabled = true;  // To prevent multiple clicks.\n",
              "      quickchartButtonEl.classList.add('colab-df-spinner');\n",
              "      try {\n",
              "        const charts = await google.colab.kernel.invokeFunction(\n",
              "            'suggestCharts', [key], {});\n",
              "      } catch (error) {\n",
              "        console.error('Error during call to suggestCharts:', error);\n",
              "      }\n",
              "      quickchartButtonEl.classList.remove('colab-df-spinner');\n",
              "      quickchartButtonEl.classList.add('colab-df-quickchart-complete');\n",
              "    }\n",
              "    (() => {\n",
              "      let quickchartButtonEl =\n",
              "        document.querySelector('#df-af91469a-408f-40a4-b64a-bc36259190a0 button');\n",
              "      quickchartButtonEl.style.display =\n",
              "        google.colab.kernel.accessAllowed ? 'block' : 'none';\n",
              "    })();\n",
              "  </script>\n",
              "</div>\n",
              "    </div>\n",
              "  </div>\n"
            ]
          },
          "metadata": {},
          "execution_count": 11
        }
      ]
    },
    {
      "cell_type": "code",
      "source": [
        "# observation du commentaire ligne 16\n",
        "df.iloc[16]['comment_text']"
      ],
      "metadata": {
        "id": "TnQwwQltIADk",
        "colab": {
          "base_uri": "https://localhost:8080/",
          "height": 35
        },
        "outputId": "7bcc5f6e-57d6-41d1-b1ac-30f386b734bd"
      },
      "execution_count": null,
      "outputs": [
        {
          "output_type": "execute_result",
          "data": {
            "text/plain": [
              "\"Bye! \\n\\nDon't look, come or think of comming back! Tosser.\""
            ],
            "application/vnd.google.colaboratory.intrinsic+json": {
              "type": "string"
            }
          },
          "metadata": {},
          "execution_count": 20
        }
      ]
    },
    {
      "cell_type": "code",
      "source": [
        "df[df.columns[2:]].iloc[16]"
      ],
      "metadata": {
        "id": "hm5085B1IcbB",
        "colab": {
          "base_uri": "https://localhost:8080/"
        },
        "outputId": "48e4a578-b8ab-4b61-fc7e-71a7e1947f1a"
      },
      "execution_count": null,
      "outputs": [
        {
          "output_type": "execute_result",
          "data": {
            "text/plain": [
              "toxic            1\n",
              "severe_toxic     0\n",
              "obscene          0\n",
              "threat           0\n",
              "insult           0\n",
              "identity_hate    0\n",
              "Name: 16, dtype: int64"
            ]
          },
          "metadata": {},
          "execution_count": 21
        }
      ]
    },
    {
      "cell_type": "code",
      "source": [
        "# observation des commentaires toxiques du dataset\n",
        "df[df[\"toxic\"]==1]"
      ],
      "metadata": {
        "id": "19MSBtfoJL1Y",
        "colab": {
          "base_uri": "https://localhost:8080/",
          "height": 424
        },
        "outputId": "43facbed-05f9-44fc-c895-c895fcc8346a"
      },
      "execution_count": null,
      "outputs": [
        {
          "output_type": "execute_result",
          "data": {
            "text/plain": [
              "                      id                                       comment_text  \\\n",
              "6       0002bcb3da6cb337       COCKSUCKER BEFORE YOU PISS AROUND ON MY WORK   \n",
              "12      0005c987bdfc9d4b  Hey... what is it..\\n@ | talk .\\nWhat is it......   \n",
              "16      0007e25b2121310b  Bye! \\n\\nDon't look, come or think of comming ...   \n",
              "42      001810bf8c45bf5f  You are gay or antisemmitian? \\n\\nArchangel WH...   \n",
              "43      00190820581d90ce           FUCK YOUR FILTHY MOTHER IN THE ASS, DRY!   \n",
              "...                  ...                                                ...   \n",
              "159494  fef4cf7ba0012866  \"\\n\\n our previous conversation \\n\\nyou fuckin...   \n",
              "159514  ff39a2895fc3b40e                  YOU ARE A MISCHIEVIOUS PUBIC HAIR   \n",
              "159541  ffa33d3122b599d6  Your absurd edits \\n\\nYour absurd edits on gre...   \n",
              "159546  ffb47123b2d82762  \"\\n\\nHey listen don't you ever!!!! Delete my e...   \n",
              "159554  ffbdbb0483ed0841  and i'm going to keep posting the stuff u dele...   \n",
              "\n",
              "        toxic  severe_toxic  obscene  threat  insult  identity_hate  \n",
              "6           1             1        1       0       1              0  \n",
              "12          1             0        0       0       0              0  \n",
              "16          1             0        0       0       0              0  \n",
              "42          1             0        1       0       1              1  \n",
              "43          1             0        1       0       1              0  \n",
              "...       ...           ...      ...     ...     ...            ...  \n",
              "159494      1             0        1       0       1              1  \n",
              "159514      1             0        0       0       1              0  \n",
              "159541      1             0        1       0       1              0  \n",
              "159546      1             0        0       0       1              0  \n",
              "159554      1             0        1       0       1              0  \n",
              "\n",
              "[15294 rows x 8 columns]"
            ],
            "text/html": [
              "\n",
              "  <div id=\"df-12266bfb-98ab-45f4-b5bd-f5386ebbd3a1\" class=\"colab-df-container\">\n",
              "    <div>\n",
              "<style scoped>\n",
              "    .dataframe tbody tr th:only-of-type {\n",
              "        vertical-align: middle;\n",
              "    }\n",
              "\n",
              "    .dataframe tbody tr th {\n",
              "        vertical-align: top;\n",
              "    }\n",
              "\n",
              "    .dataframe thead th {\n",
              "        text-align: right;\n",
              "    }\n",
              "</style>\n",
              "<table border=\"1\" class=\"dataframe\">\n",
              "  <thead>\n",
              "    <tr style=\"text-align: right;\">\n",
              "      <th></th>\n",
              "      <th>id</th>\n",
              "      <th>comment_text</th>\n",
              "      <th>toxic</th>\n",
              "      <th>severe_toxic</th>\n",
              "      <th>obscene</th>\n",
              "      <th>threat</th>\n",
              "      <th>insult</th>\n",
              "      <th>identity_hate</th>\n",
              "    </tr>\n",
              "  </thead>\n",
              "  <tbody>\n",
              "    <tr>\n",
              "      <th>6</th>\n",
              "      <td>0002bcb3da6cb337</td>\n",
              "      <td>COCKSUCKER BEFORE YOU PISS AROUND ON MY WORK</td>\n",
              "      <td>1</td>\n",
              "      <td>1</td>\n",
              "      <td>1</td>\n",
              "      <td>0</td>\n",
              "      <td>1</td>\n",
              "      <td>0</td>\n",
              "    </tr>\n",
              "    <tr>\n",
              "      <th>12</th>\n",
              "      <td>0005c987bdfc9d4b</td>\n",
              "      <td>Hey... what is it..\\n@ | talk .\\nWhat is it......</td>\n",
              "      <td>1</td>\n",
              "      <td>0</td>\n",
              "      <td>0</td>\n",
              "      <td>0</td>\n",
              "      <td>0</td>\n",
              "      <td>0</td>\n",
              "    </tr>\n",
              "    <tr>\n",
              "      <th>16</th>\n",
              "      <td>0007e25b2121310b</td>\n",
              "      <td>Bye! \\n\\nDon't look, come or think of comming ...</td>\n",
              "      <td>1</td>\n",
              "      <td>0</td>\n",
              "      <td>0</td>\n",
              "      <td>0</td>\n",
              "      <td>0</td>\n",
              "      <td>0</td>\n",
              "    </tr>\n",
              "    <tr>\n",
              "      <th>42</th>\n",
              "      <td>001810bf8c45bf5f</td>\n",
              "      <td>You are gay or antisemmitian? \\n\\nArchangel WH...</td>\n",
              "      <td>1</td>\n",
              "      <td>0</td>\n",
              "      <td>1</td>\n",
              "      <td>0</td>\n",
              "      <td>1</td>\n",
              "      <td>1</td>\n",
              "    </tr>\n",
              "    <tr>\n",
              "      <th>43</th>\n",
              "      <td>00190820581d90ce</td>\n",
              "      <td>FUCK YOUR FILTHY MOTHER IN THE ASS, DRY!</td>\n",
              "      <td>1</td>\n",
              "      <td>0</td>\n",
              "      <td>1</td>\n",
              "      <td>0</td>\n",
              "      <td>1</td>\n",
              "      <td>0</td>\n",
              "    </tr>\n",
              "    <tr>\n",
              "      <th>...</th>\n",
              "      <td>...</td>\n",
              "      <td>...</td>\n",
              "      <td>...</td>\n",
              "      <td>...</td>\n",
              "      <td>...</td>\n",
              "      <td>...</td>\n",
              "      <td>...</td>\n",
              "      <td>...</td>\n",
              "    </tr>\n",
              "    <tr>\n",
              "      <th>159494</th>\n",
              "      <td>fef4cf7ba0012866</td>\n",
              "      <td>\"\\n\\n our previous conversation \\n\\nyou fuckin...</td>\n",
              "      <td>1</td>\n",
              "      <td>0</td>\n",
              "      <td>1</td>\n",
              "      <td>0</td>\n",
              "      <td>1</td>\n",
              "      <td>1</td>\n",
              "    </tr>\n",
              "    <tr>\n",
              "      <th>159514</th>\n",
              "      <td>ff39a2895fc3b40e</td>\n",
              "      <td>YOU ARE A MISCHIEVIOUS PUBIC HAIR</td>\n",
              "      <td>1</td>\n",
              "      <td>0</td>\n",
              "      <td>0</td>\n",
              "      <td>0</td>\n",
              "      <td>1</td>\n",
              "      <td>0</td>\n",
              "    </tr>\n",
              "    <tr>\n",
              "      <th>159541</th>\n",
              "      <td>ffa33d3122b599d6</td>\n",
              "      <td>Your absurd edits \\n\\nYour absurd edits on gre...</td>\n",
              "      <td>1</td>\n",
              "      <td>0</td>\n",
              "      <td>1</td>\n",
              "      <td>0</td>\n",
              "      <td>1</td>\n",
              "      <td>0</td>\n",
              "    </tr>\n",
              "    <tr>\n",
              "      <th>159546</th>\n",
              "      <td>ffb47123b2d82762</td>\n",
              "      <td>\"\\n\\nHey listen don't you ever!!!! Delete my e...</td>\n",
              "      <td>1</td>\n",
              "      <td>0</td>\n",
              "      <td>0</td>\n",
              "      <td>0</td>\n",
              "      <td>1</td>\n",
              "      <td>0</td>\n",
              "    </tr>\n",
              "    <tr>\n",
              "      <th>159554</th>\n",
              "      <td>ffbdbb0483ed0841</td>\n",
              "      <td>and i'm going to keep posting the stuff u dele...</td>\n",
              "      <td>1</td>\n",
              "      <td>0</td>\n",
              "      <td>1</td>\n",
              "      <td>0</td>\n",
              "      <td>1</td>\n",
              "      <td>0</td>\n",
              "    </tr>\n",
              "  </tbody>\n",
              "</table>\n",
              "<p>15294 rows × 8 columns</p>\n",
              "</div>\n",
              "    <div class=\"colab-df-buttons\">\n",
              "\n",
              "  <div class=\"colab-df-container\">\n",
              "    <button class=\"colab-df-convert\" onclick=\"convertToInteractive('df-12266bfb-98ab-45f4-b5bd-f5386ebbd3a1')\"\n",
              "            title=\"Convert this dataframe to an interactive table.\"\n",
              "            style=\"display:none;\">\n",
              "\n",
              "  <svg xmlns=\"http://www.w3.org/2000/svg\" height=\"24px\" viewBox=\"0 -960 960 960\">\n",
              "    <path d=\"M120-120v-720h720v720H120Zm60-500h600v-160H180v160Zm220 220h160v-160H400v160Zm0 220h160v-160H400v160ZM180-400h160v-160H180v160Zm440 0h160v-160H620v160ZM180-180h160v-160H180v160Zm440 0h160v-160H620v160Z\"/>\n",
              "  </svg>\n",
              "    </button>\n",
              "\n",
              "  <style>\n",
              "    .colab-df-container {\n",
              "      display:flex;\n",
              "      gap: 12px;\n",
              "    }\n",
              "\n",
              "    .colab-df-convert {\n",
              "      background-color: #E8F0FE;\n",
              "      border: none;\n",
              "      border-radius: 50%;\n",
              "      cursor: pointer;\n",
              "      display: none;\n",
              "      fill: #1967D2;\n",
              "      height: 32px;\n",
              "      padding: 0 0 0 0;\n",
              "      width: 32px;\n",
              "    }\n",
              "\n",
              "    .colab-df-convert:hover {\n",
              "      background-color: #E2EBFA;\n",
              "      box-shadow: 0px 1px 2px rgba(60, 64, 67, 0.3), 0px 1px 3px 1px rgba(60, 64, 67, 0.15);\n",
              "      fill: #174EA6;\n",
              "    }\n",
              "\n",
              "    .colab-df-buttons div {\n",
              "      margin-bottom: 4px;\n",
              "    }\n",
              "\n",
              "    [theme=dark] .colab-df-convert {\n",
              "      background-color: #3B4455;\n",
              "      fill: #D2E3FC;\n",
              "    }\n",
              "\n",
              "    [theme=dark] .colab-df-convert:hover {\n",
              "      background-color: #434B5C;\n",
              "      box-shadow: 0px 1px 3px 1px rgba(0, 0, 0, 0.15);\n",
              "      filter: drop-shadow(0px 1px 2px rgba(0, 0, 0, 0.3));\n",
              "      fill: #FFFFFF;\n",
              "    }\n",
              "  </style>\n",
              "\n",
              "    <script>\n",
              "      const buttonEl =\n",
              "        document.querySelector('#df-12266bfb-98ab-45f4-b5bd-f5386ebbd3a1 button.colab-df-convert');\n",
              "      buttonEl.style.display =\n",
              "        google.colab.kernel.accessAllowed ? 'block' : 'none';\n",
              "\n",
              "      async function convertToInteractive(key) {\n",
              "        const element = document.querySelector('#df-12266bfb-98ab-45f4-b5bd-f5386ebbd3a1');\n",
              "        const dataTable =\n",
              "          await google.colab.kernel.invokeFunction('convertToInteractive',\n",
              "                                                    [key], {});\n",
              "        if (!dataTable) return;\n",
              "\n",
              "        const docLinkHtml = 'Like what you see? Visit the ' +\n",
              "          '<a target=\"_blank\" href=https://colab.research.google.com/notebooks/data_table.ipynb>data table notebook</a>'\n",
              "          + ' to learn more about interactive tables.';\n",
              "        element.innerHTML = '';\n",
              "        dataTable['output_type'] = 'display_data';\n",
              "        await google.colab.output.renderOutput(dataTable, element);\n",
              "        const docLink = document.createElement('div');\n",
              "        docLink.innerHTML = docLinkHtml;\n",
              "        element.appendChild(docLink);\n",
              "      }\n",
              "    </script>\n",
              "  </div>\n",
              "\n",
              "\n",
              "<div id=\"df-2615442e-6485-4ebb-94ae-8e9a7231c507\">\n",
              "  <button class=\"colab-df-quickchart\" onclick=\"quickchart('df-2615442e-6485-4ebb-94ae-8e9a7231c507')\"\n",
              "            title=\"Suggest charts\"\n",
              "            style=\"display:none;\">\n",
              "\n",
              "<svg xmlns=\"http://www.w3.org/2000/svg\" height=\"24px\"viewBox=\"0 0 24 24\"\n",
              "     width=\"24px\">\n",
              "    <g>\n",
              "        <path d=\"M19 3H5c-1.1 0-2 .9-2 2v14c0 1.1.9 2 2 2h14c1.1 0 2-.9 2-2V5c0-1.1-.9-2-2-2zM9 17H7v-7h2v7zm4 0h-2V7h2v10zm4 0h-2v-4h2v4z\"/>\n",
              "    </g>\n",
              "</svg>\n",
              "  </button>\n",
              "\n",
              "<style>\n",
              "  .colab-df-quickchart {\n",
              "      --bg-color: #E8F0FE;\n",
              "      --fill-color: #1967D2;\n",
              "      --hover-bg-color: #E2EBFA;\n",
              "      --hover-fill-color: #174EA6;\n",
              "      --disabled-fill-color: #AAA;\n",
              "      --disabled-bg-color: #DDD;\n",
              "  }\n",
              "\n",
              "  [theme=dark] .colab-df-quickchart {\n",
              "      --bg-color: #3B4455;\n",
              "      --fill-color: #D2E3FC;\n",
              "      --hover-bg-color: #434B5C;\n",
              "      --hover-fill-color: #FFFFFF;\n",
              "      --disabled-bg-color: #3B4455;\n",
              "      --disabled-fill-color: #666;\n",
              "  }\n",
              "\n",
              "  .colab-df-quickchart {\n",
              "    background-color: var(--bg-color);\n",
              "    border: none;\n",
              "    border-radius: 50%;\n",
              "    cursor: pointer;\n",
              "    display: none;\n",
              "    fill: var(--fill-color);\n",
              "    height: 32px;\n",
              "    padding: 0;\n",
              "    width: 32px;\n",
              "  }\n",
              "\n",
              "  .colab-df-quickchart:hover {\n",
              "    background-color: var(--hover-bg-color);\n",
              "    box-shadow: 0 1px 2px rgba(60, 64, 67, 0.3), 0 1px 3px 1px rgba(60, 64, 67, 0.15);\n",
              "    fill: var(--button-hover-fill-color);\n",
              "  }\n",
              "\n",
              "  .colab-df-quickchart-complete:disabled,\n",
              "  .colab-df-quickchart-complete:disabled:hover {\n",
              "    background-color: var(--disabled-bg-color);\n",
              "    fill: var(--disabled-fill-color);\n",
              "    box-shadow: none;\n",
              "  }\n",
              "\n",
              "  .colab-df-spinner {\n",
              "    border: 2px solid var(--fill-color);\n",
              "    border-color: transparent;\n",
              "    border-bottom-color: var(--fill-color);\n",
              "    animation:\n",
              "      spin 1s steps(1) infinite;\n",
              "  }\n",
              "\n",
              "  @keyframes spin {\n",
              "    0% {\n",
              "      border-color: transparent;\n",
              "      border-bottom-color: var(--fill-color);\n",
              "      border-left-color: var(--fill-color);\n",
              "    }\n",
              "    20% {\n",
              "      border-color: transparent;\n",
              "      border-left-color: var(--fill-color);\n",
              "      border-top-color: var(--fill-color);\n",
              "    }\n",
              "    30% {\n",
              "      border-color: transparent;\n",
              "      border-left-color: var(--fill-color);\n",
              "      border-top-color: var(--fill-color);\n",
              "      border-right-color: var(--fill-color);\n",
              "    }\n",
              "    40% {\n",
              "      border-color: transparent;\n",
              "      border-right-color: var(--fill-color);\n",
              "      border-top-color: var(--fill-color);\n",
              "    }\n",
              "    60% {\n",
              "      border-color: transparent;\n",
              "      border-right-color: var(--fill-color);\n",
              "    }\n",
              "    80% {\n",
              "      border-color: transparent;\n",
              "      border-right-color: var(--fill-color);\n",
              "      border-bottom-color: var(--fill-color);\n",
              "    }\n",
              "    90% {\n",
              "      border-color: transparent;\n",
              "      border-bottom-color: var(--fill-color);\n",
              "    }\n",
              "  }\n",
              "</style>\n",
              "\n",
              "  <script>\n",
              "    async function quickchart(key) {\n",
              "      const quickchartButtonEl =\n",
              "        document.querySelector('#' + key + ' button');\n",
              "      quickchartButtonEl.disabled = true;  // To prevent multiple clicks.\n",
              "      quickchartButtonEl.classList.add('colab-df-spinner');\n",
              "      try {\n",
              "        const charts = await google.colab.kernel.invokeFunction(\n",
              "            'suggestCharts', [key], {});\n",
              "      } catch (error) {\n",
              "        console.error('Error during call to suggestCharts:', error);\n",
              "      }\n",
              "      quickchartButtonEl.classList.remove('colab-df-spinner');\n",
              "      quickchartButtonEl.classList.add('colab-df-quickchart-complete');\n",
              "    }\n",
              "    (() => {\n",
              "      let quickchartButtonEl =\n",
              "        document.querySelector('#df-2615442e-6485-4ebb-94ae-8e9a7231c507 button');\n",
              "      quickchartButtonEl.style.display =\n",
              "        google.colab.kernel.accessAllowed ? 'block' : 'none';\n",
              "    })();\n",
              "  </script>\n",
              "</div>\n",
              "    </div>\n",
              "  </div>\n"
            ]
          },
          "metadata": {},
          "execution_count": 22
        }
      ]
    },
    {
      "cell_type": "markdown",
      "source": [
        "### B) Nettoyage des données\n",
        "\n",
        "Suppression des :\n",
        "- `balises html`\n",
        "- `liens web`\n",
        "- `caractères spéciaux, ponctuation et chiffres`\n",
        "- `double espaces`\n"
      ],
      "metadata": {
        "id": "XrGs5tY22D1S"
      }
    },
    {
      "cell_type": "code",
      "source": [
        "# Extrait de 100 commentaires toxiques avant nettoyage des données\n",
        "df_t = df[df[\"toxic\"]==1]\n",
        "for i in range(100):\n",
        "    cell_value = df_t.iat[i, df_t.columns.get_loc('comment_text')]\n",
        "    print(cell_value)"
      ],
      "metadata": {
        "colab": {
          "base_uri": "https://localhost:8080/"
        },
        "id": "V2qA9yzKr8YH",
        "outputId": "d1ab8857-de1b-49e2-ef9e-a1a1ffcdd77e"
      },
      "execution_count": null,
      "outputs": [
        {
          "output_type": "stream",
          "name": "stdout",
          "text": [
            "COCKSUCKER BEFORE YOU PISS AROUND ON MY WORK\n",
            "Hey... what is it..\n",
            "@ | talk .\n",
            "What is it... an exclusive group of some WP TALIBANS...who are good at destroying, self-appointed purist who GANG UP any one who asks them questions abt their ANTI-SOCIAL and DESTRUCTIVE (non)-contribution at WP?\n",
            "\n",
            "Ask Sityush to clean up his behavior than issue me nonsensical warnings...\n",
            "Bye! \n",
            "\n",
            "Don't look, come or think of comming back! Tosser.\n",
            "You are gay or antisemmitian? \n",
            "\n",
            "Archangel WHite Tiger\n",
            "\n",
            "Meow! Greetingshhh!\n",
            "\n",
            "Uh, there are two ways, why you do erased my comment about WW2, that holocaust was brutally slaying of Jews and not gays/Gypsys/Slavs/anyone...\n",
            "\n",
            "1 - If you are anti-semitian, than shave your head bald and go to the skinhead meetings!\n",
            "\n",
            "2 - If you doubt words of the Bible, that homosexuality is a deadly sin, make a pentagram tatoo on your forehead go to the satanistic masses with your gay pals!\n",
            "\n",
            "3 - First and last warning, you fucking gay - I won't appreciate if any more nazi shwain would write in my page! I don't wish to talk to you anymore!\n",
            "\n",
            "Beware of the Dark Side!\n",
            "FUCK YOUR FILTHY MOTHER IN THE ASS, DRY!\n",
            "I'm Sorry \n",
            "\n",
            "I'm sorry I screwed around with someones talk page.  It was very bad to do.  I know how having the templates on their talk page helps you assert your dominance over them.  I know I should bow down to the almighty administrators.  But then again, I'm going to go play outside....with your mom.   76.122.79.82\n",
            "GET FUCKED UP. GET FUCKEEED UP.  GOT A DRINK THAT YOU CANT PUT DOWN???/ GET FUCK UP GET FUCKED UP.  I'M FUCKED UP RIGHT NOW!\n",
            "Stupid peace of shit stop deleting my stuff asshole go die and fall in a hole go to hell!\n",
            "=Tony Sidaway is obviously a fistfuckee. He loves an arm up his ass.\n",
            "My Band Page's deletion. You thought I was gone. \n",
            "\n",
            "Deleting the comment I posted on your 'talk page' does not delete my feelings for your hasty decision to delete my page. You, sir, are still a cock-sucking douche fuck. Sit back for a second and think about what your life has become. ............ Done? That didn't take long did it? Nope. Because, as I am most certainly aware, your life is a shitstorm of sitting in front of the computer masturbating to fictional creatures. Your attempts to get rid of me are mediocre at best. You are constantly sucking the dick of failure. You don't want a personal attack, huh? Well, too bad, Fuckcock McDickerson. You've got one. From me. You can go ahead and delete my profile from wikipedia. I'll just make another one and come right back to 'Syrthiss's talk page and insult the dick off of you. How could you shatter the dreams of an innocent eighteen year old college freshman trying to make a name for his band. Does that make you happy? Fucking with people because you're an overweight, single, old man in a dead-end job. Did you spot that perhaps someone else was going to follow his dreams and you were trying to hold him back so somebody else could suffer like you? Yes you did. I don't make empty threats, so I won't be saying anything along the lines of 'i'll hurt you' or 'i'll eat the children from within your sister's womb', but I will say that you are a asshole, son-of-a-bitch, mother fucking cock sucker. So, go eat some more food and drown your sorrows you premature ejaculating, bald headed fuck.\n",
            "\n",
            "You should do something nice for yourself, maybe go grab a couple of Horny Goat Weeds from your local convenience store and jack off for a little longer than three minutes tonight.\n",
            "\n",
            "Sincerely,\n",
            "An Asshole That's Better Than You In Every Way.\n",
            "Why can't you believe how fat Artie is? Did you see him on his recent appearence on the Tonight Show with Jay Leno? He looks absolutely AWFUL! If I had to put money on it, I'd say that Artie Lange is a can't miss candidate for the 2007 Dead pool!   \n",
            "\n",
            "  \n",
            "Kindly keep your malicious fingers off of my above comment, . Everytime you remove it, I will repost it!!!\n",
            "All of my edits are good.  Cunts like you who revert good edits because you're too stupid to understand how to write well , and then revert other edits just because you've decided to bear a playground grudge, are the problem.  Maybe one day you'll realise the damage you did to a noble project.  201.215.187.159\n",
            "Hi! I am back again!\n",
            "Last warning!\n",
            "Stop undoing my edits or die!\n",
            "Would you both shut up, you don't run wikipedia, especially a stupid kid.\n",
            "A pair of jew-hating weiner nazi schmucks.\n",
            "\"\n",
            "\n",
            "SORRY PUCK BUT NO ONE EVER SAID DICK WAS NUMBER ONE!! But he is clearly listed as being \"\"second only to Batman\"\" and a \"\"master detective and martial artist\"\" and been trained in all the mentioned combat discplines. No need to mention in skills/abilities about the battles he's lost and won because thats not what an encylopia is supposed to do. \n",
            "\n",
            "Also, what your problem is your going by low end showings and not HIGH end showings where he's proven more than a match for a meta like Slade and pinned Shiva down in one of his earliest appearences.\n",
            " \"\n",
            "\"\n",
            "\n",
            "UNBLOCK ME OR I'LL GET MY LAWYERS ON TO YOU FOR BLOCKING MY CONSTITUTIONAL RIGHT TO FREE SPEECH\"\n",
            "You should be fired, you're a moronic wimp who is too lazy to do research. It makes me sick that people like you exist in this world.\n",
            "I think that your a Fagget get a oife and burn in Hell I hate you 'm sorry we cant have any more sex i'm running out of conndoms\n",
            "you are a stupid fuck \n",
            "\n",
            "and your mother's cunt stinks\n",
            "Your blatant POV pushing \n",
            "\n",
            "Neither of you guys has made any contribution to this Italian history article other than to shove your unhistorical unconstructive modern POV in my face.\n",
            "This is a HISTORY article. HISTORY.\n",
            "Have you heard of that?\n",
            "This is the reason why so many people get pissed off about the pedantry and idiocy and triviality of Wikipedia.\n",
            "J*sus. Get a f*cking life.\n",
            "Give me a permanat block raseac....!!! remember me....!!! Muslims dont you worry for these images they are trying to hurt us but they cant look these images are fake and have nothing to do with Islam or our prophet even their article is so lame wikipedia is not an authentic source its an encyclopedia for the kids which has not authenticity anyone can edit or write whatever they think...just like raeasc you can see he does not knows what Islam is and he talks about it so forget about wiki its lame they have no authenticity...i recommend they should add pissed christ in jessus article....they should...\n",
            "Fuck you, block me, you faggot pussy!\n",
            "Kill all niggers. \n",
            "\n",
            "I have hard, that others have said this.. should this be included? That racists sometimes say these.\n",
            "Burn Deck \n",
            "\n",
            "If that'd guy's burn deck is like what I think it is than he is in for a blrude awakening!!! Leviathan motherfucker!!!\n",
            "u r a tw@ fuck off u gay boy.U r smelly.Fuck ur mum poopie\n",
            "Atheism is full of bias shit\n",
            "Hey why you are spreading misconceptions and trying to spread false information to the people.You not even know who won the battle and who lost.you are the cheapest person on the earth.Bloody ignorant fool.Check sources before spreading rumors\n",
            "\"\n",
            "\n",
            "And you are? Let me know when you've crawled out of their arses. '''''' Dick Laurent is dead \"\n",
            "this user is such a worthless goddamn faggot fuck you faggot\n",
            "Fuck off\n",
            "\n",
            "You are NOT an administrator. You DON'T have the authority to tell me what to do.\n",
            "Well you are ridiculous, in fact I suspect that you are Calton, please block me, I dont care....\n",
            "\"\n",
            "\n",
            " Fuck you \n",
            "\n",
            "  Fuck you award go fuck yourself   \"\n",
            "Keep your eye on it, no one cares, OK? People can put what they want on here, and clean it up all you want but no one cares. God, you're so freakin' stupid!   Omnigan\n",
            "MATT HARDY IS SO FUCKY!!!''Italic text[[Media:Example.ogg]]'''''MATT HARDY IS SO FUCKY!!!\n",
            "God is dead\n",
            "I don't mean to startle anyone but God is dead. We should not worry about him anymore. Just thought I would let everyone know. Well, goodbye and good luck with your newfound crisis of faith! 24.77.205.229\n",
            "Have you seen the reference to their claim, you moron''?? This is not a source. It´s their POV. Once I have more time I will reduce your Pashtun nationalist POVs here on Wiki and give order to my uncles and cousins the execution of Pashtuns in the entire northern Afghanistan down to Gardez, Jalalabad, Lashkargah, Logar, Paghman, Laghman, Kunduz, Herat, Farah ... whereever immigrant descandants of violent Kuchis settled and took non-Pashtun lands away and traditional Tajik countries. 84.59.190.210\n",
            "Thank you \n",
            "Hei, it's me, the William Hope fan. Guess what - I am back at a new IP, ready to vandalize everything regarding William Hope, and you can't do sh-t to stop me, maybe delay me, but no stopping me. So lets salute to some more William Hope lunacy by shoving his p-nis in my mouth.\n",
            "Fuck you \n",
            "\n",
            "-User:The Bohemian Shinobis yeah, that's right, bitch! You are all pieces of shit!\n",
            "Dear Mokele,\n",
            "You have no right to tell people to die in a fire. Just because that IP address is being used for vandilism does not mean you can talk to people like that. You are in fact a bigger loser than the person who you block.\n",
            "Thank you for your RACIST experimenting with the page Katherine Heigl on Wikipedia. Your test worked, and it has been reverted or removed. Please use the sandbox for any other tests you may want to do. Take a look at the welcome page to learn more about contributing to our encyclopedia. Now go FUCK YOURSELF YOU RACIST CANUCK ASSHOLE1  U HAVE NOTHING BETTER TO DO THAN CENSOR THE TRUTH U GODDAMN KKKKANUCK PIECE O TRASH///  DICKHEAD MORON MOTHERFUCKER111LOL  YOU CANUCKS R REAL RETARDS1  FUK OFF DICKWEED!  EDIT ANOTHER 1 OF MY EIDTS AND YOU'LL BE EXPEL FROM WIKI BY JIMBO YOU SOB DICKHEAD11 \n",
            "SO WATCH IT MOFO PIECE OF GARBAGE RACIST MOFO ASSHOLE.  IM TRYINBG TO BE NICE HERE SO TAKE WHAT i SAY AS A COMPLIMENT!Yamla\n",
            "Be careful who you call a moron.\n",
            "Gay \n",
            "\n",
            "The existence of CDVF is further proof that  is a sad twat. He is also very ugly, and has a willy for a face.\n",
            "I NEVER FUCKING MADE THIS MOTHER FUCKING ARTICLE I JUST FUCKING EDITED IT AND THAT WAS A FUCKING LONG TIME AGO FUCKING ASSHOLES! PISSING ME OFF @\n",
            "Fucked with the wrong muchacho.  21:19, July 23, 2005 (UTC)\n",
            "Hi \n",
            "\n",
            "Im a fucking bitch.\n",
            "\n",
            "50.180.208.181\n",
            "Add Mobile porn as additional WP:ALSO link\n",
            "F**K ALL RIDES AT WORLDS OF FUN  \n",
            "\n",
            "I hate all rides at Worlds of Fun because they are sh_tty and boring. All ride operators at WOF should be fired sued and hanged. Burn all WOF coasters. Arrest all WOF park operators! Assassinate all WOF customers! I heard that a boy died on Timberwolf on August, 2014. That's stupid! Worlds of Fun should have nown better to built that sh_t ride. Worlds Of Fun cares about money and prophet moar than they're customers. Burn that sh_t park down! F**K YOU RIDES! WorldS Of Fun is dangerouser than GRround Zero and Area 51. \n",
            "\n",
            "Worlds of Fun should burn in Hell!\n",
            "\"\"\"Nazi filth\"\" is impolite  04:27, 20 Jan 2004 (UTC)\n",
            "\n",
            "\"\n",
            "I don't care what you say here. I don't believe one sentence anymore.\n",
            "I can tell you what the argument is about here newseventsguy. It's about YOUR retroactive reversion of a simple edit trying to include secondary independent verification of sedimentary nanodiamonds in Younger Dryas sediments by Bement and Madden et al., WITHOUT DISCUSSION a reference that I notice has NOT YET been included in the reference list still, after all this time. This is after you ADMIT that you are ignorant of the peer review literature and the controversy. Any attempt to do simple reference list edits on this page have been stomped by no less that five admittedly biased and ignorant editors. The honorable thing to do here would be to recuse yourself from editing the page, as I have. But I haven't seen that happening until now. Good luck with it, you've already made complete fools of yourselves.\n",
            "HELLO HOW DO I GET SOMEBODY TO FIX SHIT AROUND HERE?\n",
            "Dictionaries\n",
            "\n",
            "How dare you call my contribution spam!!! I am a Kurd and I made a lsit of kurdish dictionaries. you bloody turkish nationalist and atoricity commiting bone breaking Nazi. watch out folk this slimy Turk is trying to censor the internet this is not undemocratic Turkey here, no prison cells in wikipedia you stupid Turk! And you buggers want membership to the EEC\n",
            "You are a know it all.....Jimbo! \n",
            "\n",
            "Why don't you get a life instead of sitting in front of your computer all day. The high priestess of knowledge, indeed!\n",
            "What a motherfucking piece of crap those fuckheads for blocking us!\n",
            "You sir are an imbecile, and a pervert.\n",
            "\"\n",
            "\n",
            " Another crap article \n",
            "Parrots what promotion websites of capoeira schools say about myths of origin. And also that persecution thing. By the late 1800s, capoeira became a word for street brawling. Thus, authorities did not prohibit or sanction \"\"practice\"\" of capoeira. In banning capoeira they were banning outright street brawls! It's why Mestre Bimba presented his art as Luta Regional Baiana. No decent carioca would be eager to sympathise with capoeira and malandrismo. I could attempt to alter the article but it's become such a mess by now.   \"\n",
            "I'm also a sock puppet of this account...SUPRISE!!\n",
            "-sincerely,\n",
            "            The man that will track you down from the Internet and kill you\n",
            "Are you fucker mother fucker have nothing to do but block University computers. Go and suck cocks\n",
            "HELLO \n",
            "\n",
            "You disgrace to humanity. Stop wasting valuable Internet resources (your killing the fucking planet) and throw out your PC. PS it's like 3am what the fark kinda life do you have on Wikipedia 24/7. A VERY SAD AND LONELY ONE LOL. Life's too short find something better to do\n",
            "Your retarded bot \n",
            "\n",
            "Your bot is entirely automated, that is wrong.  You should not leave an unattented script just running through the site like that, it is idiotic of you to suppose that your scripting abilities are so perfect that they will only ever make proper edits.  Banning me doesn't help anything, dipshit, since I have as many IPs as I want.\n",
            "DISLIKE RACISM AND I CAN SEE THAT YOU HAS PROBLEMS WITH PEOPLE WHO SPEAKS SPANISH. YOU ARE AN ANTISEMITE TOO.\n",
            "IT WASNT VANDALISM, DICKHEAD\n",
            "\"\n",
            "\n",
            " You Suck \n",
            "\n",
            "If you don't undelete the page \"\"Barry Dejay\"\" I will %$#@ you!\"\n",
            "Curse \n",
            "Wikipedia has no respect for God. \n",
            "Wikipedia is full of lies or dangerously evil half truths.\n",
            "Wikipedia has no respect for religion.\n",
            "The following users of Wikipedia, namely: Redtigerxyz, Priyanath, Emperor Genius, Raj2004, Wikidas, Wikiveer and DaGizza have all committed blasphemy and sacrilage. Curse upon you that you will all perish.\n",
            "I curse the following users of  Wikipedia, namely: Redtigerxyz, Priyanath, Emperor Genius, Raj2004, Wikidas, Wikiveer and DaGizza that you will all perish.\n",
            "I curse that the Wikipedia will entirely perish.\n",
            "I beg forgiveness from the Supreme God, Lord Vishnu for choosing the blasphemous Wikipedia website to write about the truth. \n",
            "A true devote of the Supreme Lord Vishnu has been hurt and my curse never goes in vain.\n",
            "I will never again edit or read or go to the evil Wikipedia website, forever . \n",
            "Delete my user-id and all edits you evil Wikipedians.\n",
            "Mr. DaGizza, you are a Male Chauvinist Pig and a misogynist to the core and you call yourself an administrator !!! Ridiculous !!!\n",
            "Mr. DaGizza, you are a curse to your existance.\n",
            "A man like you, who cannot respect women is a worthless in his existance. \n",
            "You Wikipedians are useless people. You are a burden to the civilized world. You are not even worth hatred.\n",
            "You Wikipedians must be ignored.\n",
            " Curse\n",
            "Hahaha, you dont actually believe this bullshit you are telling me right now? You are talking about the access to the country or representatives to the government, not Kim Jong Un himself. Those are two totally different things (although I could understand your stupidity, since North Koreans think that Kim Jong un is the governement, im just saying). Go Troll somewhere else kid.\n",
            "Blocking Mardyks \n",
            "\n",
            "Guess what? Loser! Know what a cockblocker is? Hahahaha ~M~ 71.39.183.86\n",
            "Wikipedia administrators are defending a mass-murdering psychopath.\n",
            "\"\\\n",
            "You wasted your own time! Take this advice with you: Pull your head out of your ass! Be real and don't spend the rest of your life sucking ass. Have a nice life! Goodbye!  (mailbox) \"\n",
            "A few things to get straight... \n",
            "\n",
            "Firstly, I do not like you. You look like a smug little prick to me.\n",
            "Secondly, I do not like your ethnicity. Not one little bit. I'd like you to explain yourself on that count.\n",
            "Thirdly, your dog is a bit of a bender. \n",
            "\n",
            "94.1.96.85\n",
            "ok stop being lame. seriously. go watch pokemon.\n",
            "I did not intend to be disruptive, I was genuineley upset by the word constantly. I only tried to make it look like an april fool joke after you explanation made me look like an uptight weirdo\n",
            "Matt, when mattsanchez.info goes live on Monday, among other things you'll see an invitation to be interviewed. This time you'll have nowhere to hide. Let's see who's a victim and who's a coward.\n",
            "Do not help the jew Schnider. Final warning.\n",
            "Don't peddle your crap please.  Hate to see another article get disputed for neutrality due to you.\n",
            "You really are a rebel guy, rebelguys! \n",
            "\n",
            "Time to get oral from a  prostitute'''!\n",
            "\"\n",
            "Of course a true Dub will say 'depaaarted' or, more likely \"\"f**in' gone\"\".   \"\n",
            "Muslim Men Harassment of MM page \n",
            "\n",
            "It is amazing how three muslim men jumped all over this page, right after I added a number of things (30 minutes after - all three men, all muslims), and cleaned it up.  Does a woman working for human rights in Pakistan really get under your skin so badly?  Wow.\n",
            "\n",
            "So sweetie, if you are so bloody busy, why not get busy, and stop harassing the women?  Are you *that* threatened?\n",
            "Tried to be productive (look at my contributions) but hit my head against a wall of spoiled greek children (or probably under pay from Greek Government) that purposely keep vandalizing the Albania related pages and keep iritating the albanian editors until they explode and get banned. As a historian I blush with what I find quoted as reliable information on the wikipedia pages and the quality  of the editors and sources. Time to move to the French pages (a lot of readers there), still 5 more languages to go. Till next time.Wikipedia sucks! .\n",
            "\"You know, I was thinking...\n",
            "\n",
            "Nobody really attacked me before I revealed my age here.  After I announced that I was 14, I was subject to a constant storm of harassment and abuse.\n",
            "\n",
            "The same thing goes for when I was on The Sandbox when I was 11.  Before people knew my age, they didn't care.  After I told them my age, they hated me.\n",
            "\n",
            "It's just so amusing how the idiot Soapboxers think of teenagers as being responsible for the \"\"decline\"\" of The Soapbox (like it was ever any good to begin with).  This is funny, because the adults are the dumbest people here.  Mauricio, Chuppah, Redneckgirl, Pinky, Scooby, GG, ForeverLostTinkerbell, greenrabbit, StarRocketsInFlight, Bree-Robinson, enigma-72, CocaineNightmares, TokyoDome, Chad_Ocho-Cinco, Steve Lake...\n",
            "\n",
            "...all adults.\n",
            "\n",
            "The teenage posters here are typically the smartest ones.  Let's see... G-Dawg, Head_Banging_Brunette, ClassicAge, Metropolis (even though he's a bipolar weirdo), ChrisScript, just to name a few.\n",
            "\n",
            "All I ever see adults posting is \"\"rate my poo!!1!\"\", \"\"my ballz smell funny\"\", \"\"whoz hawter: me or ur mom???//?/?\"\", \"\"i like to rape little girls\"\", and \"\"HEY GUYZ LOOK AT ME IM AN ATTENTION WHORE!!!!11!!1!\"\"  The adult posters here are immature, moronic, savage bullies with the mental capacity of a retarded 4-year-old.\n",
            "\n",
            "Whereas, most of the teenagers here are thoughtful, intelligent, mature, and often profound.  But they're subject to constant schoolyard bullying by the idiot adult posters who think they're somehow superior because they were born (and dropped on their head) earlier.\n",
            "\n",
            "Soapbox logic never fails to amuse me...\n",
            "\"\n",
            "Here's an idea \n",
            "\n",
            "Go fuck yourself, cumshitter.\n",
            "\"  WILL MY MOTHERFUCKING SAFETY BE GUARANTEED???? I FUCKING HOPE SO!!! I'M BRINGING MY OWN FUCKIN' WEAPONS!! PAY ME WHEN I GET BACK MOTHERFUCKERS!!!  OH YEAH I'VE GOT A JOKE...A FAMILY (HUSBAND, WIFE, SON, DAUGHTER, DOG) WALKS INTO AN AGENT'S OFFICE AND TELLS HIM THAT THEY'VE GOT A GREAT VAUDEVILLE ROUTINE...HE SAYS \"\"WE DON'T HIRE KIDDY ACTS\"\" AND THEY SAY \"\"BUT WE'RE REALLY GOOD!\"\" AND SO THE AGENT SAYS \"\"FINE, LET ME SEE WHAT YOU'VE GOT, BUT IF YOU SUCK I'M THROWING YOU OUT\"\"...SO THE FAMILY GETS READY...THE DAUGHTER HITS THE CD PLAYER AND CIRCUS MUSIC BEGINS PLAYING, THE FATHER JUMP KICKS THE SON IN THE HEAD AND STOMS HIS FACE IN THE GROUND UNTIL IT'S A BLOODY PULP, THEN PROCEEDS TO JERK OFF AND CUM ALL OVER HIS SHATTERED SKULL.  MEANWHILE THE MOTHER BEGINS VIOLENTLY FINGER FUCKING THE DAUGHTER AS THE DOG FUCKS THE MOTHER IN THE ASS HOLE.  THIS IS THE POINT WHEN THE FATHER TAKES THE LEFTOVER BRAIN MATTER FROM THE SON'S HEAD AND SHOVES IT INTO THE MOTHER'S PUSSY, THEN BEGINS FUCKING HER PUSSY WHILE SIMULTANEOUSLY STICKING HIS FINGER DOWN THE DAUGHTER'S THROAT UNTIL SHE VOMITS ALL OVER THEM BOTH.  THEN THE DOG BITES THE MOTHER'S HAND OFF AS SHE'S FINGER FUCKING THE DAUGHTER, LEAVING HER HAND IN THE DAUGHTER'S PUSSY AS BLOOD SQUIRTS ALL OVER THE PLACE...THE FATHER TAKES BLOOD FROM THE GROUND, SMEARS IT ALL OVER THE MOTHER'S CHEST, BENDS OVER, AND BEGINS SHITTING ALL OVER THE OPEN WOUND WHERE HER HAND USED TO BE BEFORE THE DOG BIT IT OFF.  THEY TAKE THE DOG AND SHOVE IT IN A MICROWAVE, HEATING IT UP UNTIL IT EXPLODES, THEN TAKE THE DOG REMAINS, MIX IT WITH THE FATHER'S SHIT, THE SON'S HEAD WOUND, AND THE FATHER'S CUM, AND SHOVE IT INTO THE DAUGHTER'S MOUTH.  THEN THE FATHER RIPS THE SON'S DICK OFF AND FUCKS THE DAUGHTER WITH IT, AS THE MOTHER LOCATE'S THE SON'S TESTICLES, BREAKS THEM OPEN, AND DRINKS THE SPERM THAT COMES OUT.  THEN THE FAMILY LINES UP AND SAYS \"\"TA DA!\"\"...THERE'S SILENCE FROM THE AGENT, UNTIL HE FINALLY SAYS \"\"I LOVE IT!  WHAT DO YOU CALL THAT?\"\"...AND THE FAMILY SAYS \"\"WE CALL IT...THE ARISTOCRATS!\"\"\"\n",
            "Fuck you, Smith. Please have me notified when you die. I want to dance on your grave.\n",
            "I shit on your face \n",
            "\n",
            "fuck you\n",
            "You are \n",
            "\n",
            "so retarded.\n",
            "Groin \n",
            "\n",
            "You sad fuck. I'm going to restore my edit, and you are going to leave it, or else I wil knee you in the groin yourself, prick. 91.108.208.101\n",
            "Video Game \n",
            "\n",
            "For pete sake if I see that false video game article one more time, I'll throw a cat out of the window, whoever you are, stop it now, it isn't funny or clever, you are just making a moron out of yourself and I bet that was the same person who changed the test card date too.\n",
            "HE LIKES ITIN THE ASS BY MUHAMAD ALI AND KELLY HAS A GIANT PENIS AND ALSO FUCKED COLUMBUS\n",
            "Just shut up and stay shut. Don't edit anymore\n",
            "P.S. Are you a /b/tard?\n",
            "Ohhh I'm sorry did I hurt your little feelings? \n",
            "\n",
            "Let's all shed a couple tears together. \n",
            "LOL What a joke. I bet you feel pretty important, pathetic little wikipedia volunteer. Have fun living in your mother's basement drawing comic books, lowlife.\n",
            "Fuck off you murdering scum!!!\n",
            "\"\n",
            "\n",
            " I TAKE OFFENSE! \n",
            "\n",
            "I take great offense that some pompous, sanctimonious twit thinks that no one should be allowed to express appreciation for women like the Gibson Girl as the \"\"fine-featured\"\" and \"\"achingly beautiful\"\" creatures that they are.  \n",
            "\n",
            "I don't know what kind of totalitarian feminazi dystopian agenda you are trying to foist on people, but don't do it here!  This encyclopedia is based on free speech and a free exchange of information, not bogus political correctness and schoolmarmish thought-policing.  I'll take a Gibson Girl over you anyday!\"\n",
            "you gay motherfucker i know where you live,i am going to sand your face off,then i am to going to beat you to a pulp,you chicken shagger.\n",
            ". Ok Dennis Brown thanks for telling me I was taking this a bit way too serious ill be careful for this time stupid bots.\n",
            "Wikipedia is full of fools. Who takes money and makes people work for free?  Wikipedia!!! You might as well ban me, you fool. What's taking so long? Wiki is a stupid place, it's Jimbo's Cult.\n",
            "Why are you changing the SOMALI PEOPLE WIKI????????????????????/ \n",
            "\n",
            "SERIOUSLY????????? THAT PAGE IS BIASED TO ONE CLAN, I ADDED A MORE DIVERSE REPRESENTATION OF SOMALI PEOPLE!\n",
            "\n",
            "YOU STUPID CRIMINAL.\n",
            "Transistor  \n",
            "\n",
            "The transistor page does not have a Principle of Operation section, because \n",
            "\n",
            "a)the physicists know about it but don't want to share it\n",
            "b)they just don't know how it works\n",
            "\n",
            "I was thinking about it and came up with a fairly decent concept of how it works, I put it on WIKI, I think the guys got jealous, and here I am, discussing pretty much nothing. \n",
            "\n",
            "PS: and my language is pathetic, you naughty naughty boy,..I'll eat you...:)))\n",
            "you studid cock sucker u stop callin me ok its a frank Garrett eatin the worms crawl outa your moms pussy you fucking retardo hit I retardo\n",
            "FisherQueen, would you kindly stop following my every move and deleting things off MY user page. Havent you got anything better to do than piss people off on Wikipedia.\n"
          ]
        }
      ]
    },
    {
      "cell_type": "code",
      "source": [
        "import re\n",
        "def clean_comment(comment):\n",
        "    # Supprime les balises HTML\n",
        "    comment = re.sub(r'<[^>]+>', '', comment)\n",
        "\n",
        "    # Supprime les liens web\n",
        "    comment = re.sub(r'http\\S+|www\\S+|https\\S+', '', comment)\n",
        "\n",
        "    # Supprime les caractères spéciaux, ponctuation et chiffres\n",
        "    comment = re.sub(r'[^a-zA-Z\\s\\']', ' ', comment)\n",
        "\n",
        "    # Supprime les doubles espaces\n",
        "    comment = \" \".join(comment.split())\n",
        "\n",
        "    return comment"
      ],
      "metadata": {
        "id": "0hxTE_1Pn_pc"
      },
      "execution_count": null,
      "outputs": []
    },
    {
      "cell_type": "code",
      "source": [
        "df['comment_text'] =df['comment_text'].apply(clean_comment)"
      ],
      "metadata": {
        "id": "bRpsc_2coPNj"
      },
      "execution_count": null,
      "outputs": []
    },
    {
      "cell_type": "code",
      "source": [
        "# Extrait de 100 commentaires toxiques après nettoyage des données\n",
        "df_t = df[df[\"toxic\"]==1]\n",
        "for i in range(100):\n",
        "    cell_value = df_t.iat[i, df_t.columns.get_loc('comment_text')]\n",
        "    print(f\"--> {cell_value}\")"
      ],
      "metadata": {
        "colab": {
          "base_uri": "https://localhost:8080/"
        },
        "id": "UhZUYvjhDjtL",
        "outputId": "04871a3b-a353-4fd3-f5b7-702f2c598e88"
      },
      "execution_count": null,
      "outputs": [
        {
          "output_type": "stream",
          "name": "stdout",
          "text": [
            "--> COCKSUCKER BEFORE YOU PISS AROUND ON MY WORK\n",
            "--> Hey what is it talk What is it an exclusive group of some WP TALIBANS who are good at destroying self appointed purist who GANG UP any one who asks them questions abt their ANTI SOCIAL and DESTRUCTIVE non contribution at WP Ask Sityush to clean up his behavior than issue me nonsensical warnings\n",
            "--> Bye Don't look come or think of comming back Tosser\n",
            "--> You are gay or antisemmitian Archangel WHite Tiger Meow Greetingshhh Uh there are two ways why you do erased my comment about WW that holocaust was brutally slaying of Jews and not gays Gypsys Slavs anyone If you are anti semitian than shave your head bald and go to the skinhead meetings If you doubt words of the Bible that homosexuality is a deadly sin make a pentagram tatoo on your forehead go to the satanistic masses with your gay pals First and last warning you fucking gay I won't appreciate if any more nazi shwain would write in my page I don't wish to talk to you anymore Beware of the Dark Side\n",
            "--> FUCK YOUR FILTHY MOTHER IN THE ASS DRY\n",
            "--> I'm Sorry I'm sorry I screwed around with someones talk page It was very bad to do I know how having the templates on their talk page helps you assert your dominance over them I know I should bow down to the almighty administrators But then again I'm going to go play outside with your mom\n",
            "--> GET FUCKED UP GET FUCKEEED UP GOT A DRINK THAT YOU CANT PUT DOWN GET FUCK UP GET FUCKED UP I'M FUCKED UP RIGHT NOW\n",
            "--> Stupid peace of shit stop deleting my stuff asshole go die and fall in a hole go to hell\n",
            "--> Tony Sidaway is obviously a fistfuckee He loves an arm up his ass\n",
            "--> My Band Page's deletion You thought I was gone Deleting the comment I posted on your 'talk page' does not delete my feelings for your hasty decision to delete my page You sir are still a cock sucking douche fuck Sit back for a second and think about what your life has become Done That didn't take long did it Nope Because as I am most certainly aware your life is a shitstorm of sitting in front of the computer masturbating to fictional creatures Your attempts to get rid of me are mediocre at best You are constantly sucking the dick of failure You don't want a personal attack huh Well too bad Fuckcock McDickerson You've got one From me You can go ahead and delete my profile from wikipedia I'll just make another one and come right back to 'Syrthiss's talk page and insult the dick off of you How could you shatter the dreams of an innocent eighteen year old college freshman trying to make a name for his band Does that make you happy Fucking with people because you're an overweight single old man in a dead end job Did you spot that perhaps someone else was going to follow his dreams and you were trying to hold him back so somebody else could suffer like you Yes you did I don't make empty threats so I won't be saying anything along the lines of 'i'll hurt you' or 'i'll eat the children from within your sister's womb' but I will say that you are a asshole son of a bitch mother fucking cock sucker So go eat some more food and drown your sorrows you premature ejaculating bald headed fuck You should do something nice for yourself maybe go grab a couple of Horny Goat Weeds from your local convenience store and jack off for a little longer than three minutes tonight Sincerely An Asshole That's Better Than You In Every Way\n",
            "--> Why can't you believe how fat Artie is Did you see him on his recent appearence on the Tonight Show with Jay Leno He looks absolutely AWFUL If I had to put money on it I'd say that Artie Lange is a can't miss candidate for the Dead pool Kindly keep your malicious fingers off of my above comment Everytime you remove it I will repost it\n",
            "--> All of my edits are good Cunts like you who revert good edits because you're too stupid to understand how to write well and then revert other edits just because you've decided to bear a playground grudge are the problem Maybe one day you'll realise the damage you did to a noble project\n",
            "--> Hi I am back again Last warning Stop undoing my edits or die\n",
            "--> Would you both shut up you don't run wikipedia especially a stupid kid\n",
            "--> A pair of jew hating weiner nazi schmucks\n",
            "--> SORRY PUCK BUT NO ONE EVER SAID DICK WAS NUMBER ONE But he is clearly listed as being second only to Batman and a master detective and martial artist and been trained in all the mentioned combat discplines No need to mention in skills abilities about the battles he's lost and won because thats not what an encylopia is supposed to do Also what your problem is your going by low end showings and not HIGH end showings where he's proven more than a match for a meta like Slade and pinned Shiva down in one of his earliest appearences\n",
            "--> UNBLOCK ME OR I'LL GET MY LAWYERS ON TO YOU FOR BLOCKING MY CONSTITUTIONAL RIGHT TO FREE SPEECH\n",
            "--> You should be fired you're a moronic wimp who is too lazy to do research It makes me sick that people like you exist in this world\n",
            "--> I think that your a Fagget get a oife and burn in Hell I hate you 'm sorry we cant have any more sex i'm running out of conndoms\n",
            "--> you are a stupid fuck and your mother's cunt stinks\n",
            "--> Your blatant POV pushing Neither of you guys has made any contribution to this Italian history article other than to shove your unhistorical unconstructive modern POV in my face This is a HISTORY article HISTORY Have you heard of that This is the reason why so many people get pissed off about the pedantry and idiocy and triviality of Wikipedia J sus Get a f cking life\n",
            "--> Give me a permanat block raseac remember me Muslims dont you worry for these images they are trying to hurt us but they cant look these images are fake and have nothing to do with Islam or our prophet even their article is so lame wikipedia is not an authentic source its an encyclopedia for the kids which has not authenticity anyone can edit or write whatever they think just like raeasc you can see he does not knows what Islam is and he talks about it so forget about wiki its lame they have no authenticity i recommend they should add pissed christ in jessus article they should\n",
            "--> Fuck you block me you faggot pussy\n",
            "--> Kill all niggers I have hard that others have said this should this be included That racists sometimes say these\n",
            "--> Burn Deck If that'd guy's burn deck is like what I think it is than he is in for a blrude awakening Leviathan motherfucker\n",
            "--> u r a tw fuck off u gay boy U r smelly Fuck ur mum poopie\n",
            "--> Atheism is full of bias shit\n",
            "--> Hey why you are spreading misconceptions and trying to spread false information to the people You not even know who won the battle and who lost you are the cheapest person on the earth Bloody ignorant fool Check sources before spreading rumors\n",
            "--> And you are Let me know when you've crawled out of their arses '''''' Dick Laurent is dead\n",
            "--> this user is such a worthless goddamn faggot fuck you faggot\n",
            "--> Fuck off You are NOT an administrator You DON'T have the authority to tell me what to do\n",
            "--> Well you are ridiculous in fact I suspect that you are Calton please block me I dont care\n",
            "--> Fuck you Fuck you award go fuck yourself\n",
            "--> Keep your eye on it no one cares OK People can put what they want on here and clean it up all you want but no one cares God you're so freakin' stupid Omnigan\n",
            "--> MATT HARDY IS SO FUCKY ''Italic text Media Example ogg '''''MATT HARDY IS SO FUCKY\n",
            "--> God is dead I don't mean to startle anyone but God is dead We should not worry about him anymore Just thought I would let everyone know Well goodbye and good luck with your newfound crisis of faith\n",
            "--> Have you seen the reference to their claim you moron'' This is not a source It s their POV Once I have more time I will reduce your Pashtun nationalist POVs here on Wiki and give order to my uncles and cousins the execution of Pashtuns in the entire northern Afghanistan down to Gardez Jalalabad Lashkargah Logar Paghman Laghman Kunduz Herat Farah whereever immigrant descandants of violent Kuchis settled and took non Pashtun lands away and traditional Tajik countries\n",
            "--> Thank you Hei it's me the William Hope fan Guess what I am back at a new IP ready to vandalize everything regarding William Hope and you can't do sh t to stop me maybe delay me but no stopping me So lets salute to some more William Hope lunacy by shoving his p nis in my mouth\n",
            "--> Fuck you User The Bohemian Shinobis yeah that's right bitch You are all pieces of shit\n",
            "--> Dear Mokele You have no right to tell people to die in a fire Just because that IP address is being used for vandilism does not mean you can talk to people like that You are in fact a bigger loser than the person who you block\n",
            "--> Thank you for your RACIST experimenting with the page Katherine Heigl on Wikipedia Your test worked and it has been reverted or removed Please use the sandbox for any other tests you may want to do Take a look at the welcome page to learn more about contributing to our encyclopedia Now go FUCK YOURSELF YOU RACIST CANUCK ASSHOLE U HAVE NOTHING BETTER TO DO THAN CENSOR THE TRUTH U GODDAMN KKKKANUCK PIECE O TRASH DICKHEAD MORON MOTHERFUCKER LOL YOU CANUCKS R REAL RETARDS FUK OFF DICKWEED EDIT ANOTHER OF MY EIDTS AND YOU'LL BE EXPEL FROM WIKI BY JIMBO YOU SOB DICKHEAD SO WATCH IT MOFO PIECE OF GARBAGE RACIST MOFO ASSHOLE IM TRYINBG TO BE NICE HERE SO TAKE WHAT i SAY AS A COMPLIMENT Yamla\n",
            "--> Be careful who you call a moron\n",
            "--> Gay The existence of CDVF is further proof that is a sad twat He is also very ugly and has a willy for a face\n",
            "--> I NEVER FUCKING MADE THIS MOTHER FUCKING ARTICLE I JUST FUCKING EDITED IT AND THAT WAS A FUCKING LONG TIME AGO FUCKING ASSHOLES PISSING ME OFF\n",
            "--> Fucked with the wrong muchacho July UTC\n",
            "--> Hi Im a fucking bitch\n",
            "--> Add Mobile porn as additional WP ALSO link\n",
            "--> F K ALL RIDES AT WORLDS OF FUN I hate all rides at Worlds of Fun because they are sh tty and boring All ride operators at WOF should be fired sued and hanged Burn all WOF coasters Arrest all WOF park operators Assassinate all WOF customers I heard that a boy died on Timberwolf on August That's stupid Worlds of Fun should have nown better to built that sh t ride Worlds Of Fun cares about money and prophet moar than they're customers Burn that sh t park down F K YOU RIDES WorldS Of Fun is dangerouser than GRround Zero and Area Worlds of Fun should burn in Hell\n",
            "--> Nazi filth is impolite Jan UTC\n",
            "--> I don't care what you say here I don't believe one sentence anymore\n",
            "--> I can tell you what the argument is about here newseventsguy It's about YOUR retroactive reversion of a simple edit trying to include secondary independent verification of sedimentary nanodiamonds in Younger Dryas sediments by Bement and Madden et al WITHOUT DISCUSSION a reference that I notice has NOT YET been included in the reference list still after all this time This is after you ADMIT that you are ignorant of the peer review literature and the controversy Any attempt to do simple reference list edits on this page have been stomped by no less that five admittedly biased and ignorant editors The honorable thing to do here would be to recuse yourself from editing the page as I have But I haven't seen that happening until now Good luck with it you've already made complete fools of yourselves\n",
            "--> HELLO HOW DO I GET SOMEBODY TO FIX SHIT AROUND HERE\n",
            "--> Dictionaries How dare you call my contribution spam I am a Kurd and I made a lsit of kurdish dictionaries you bloody turkish nationalist and atoricity commiting bone breaking Nazi watch out folk this slimy Turk is trying to censor the internet this is not undemocratic Turkey here no prison cells in wikipedia you stupid Turk And you buggers want membership to the EEC\n",
            "--> You are a know it all Jimbo Why don't you get a life instead of sitting in front of your computer all day The high priestess of knowledge indeed\n",
            "--> What a motherfucking piece of crap those fuckheads for blocking us\n",
            "--> You sir are an imbecile and a pervert\n",
            "--> Another crap article Parrots what promotion websites of capoeira schools say about myths of origin And also that persecution thing By the late s capoeira became a word for street brawling Thus authorities did not prohibit or sanction practice of capoeira In banning capoeira they were banning outright street brawls It's why Mestre Bimba presented his art as Luta Regional Baiana No decent carioca would be eager to sympathise with capoeira and malandrismo I could attempt to alter the article but it's become such a mess by now\n",
            "--> I'm also a sock puppet of this account SUPRISE sincerely The man that will track you down from the Internet and kill you\n",
            "--> Are you fucker mother fucker have nothing to do but block University computers Go and suck cocks\n",
            "--> HELLO You disgrace to humanity Stop wasting valuable Internet resources your killing the fucking planet and throw out your PC PS it's like am what the fark kinda life do you have on Wikipedia A VERY SAD AND LONELY ONE LOL Life's too short find something better to do\n",
            "--> Your retarded bot Your bot is entirely automated that is wrong You should not leave an unattented script just running through the site like that it is idiotic of you to suppose that your scripting abilities are so perfect that they will only ever make proper edits Banning me doesn't help anything dipshit since I have as many IPs as I want\n",
            "--> DISLIKE RACISM AND I CAN SEE THAT YOU HAS PROBLEMS WITH PEOPLE WHO SPEAKS SPANISH YOU ARE AN ANTISEMITE TOO\n",
            "--> IT WASNT VANDALISM DICKHEAD\n",
            "--> You Suck If you don't undelete the page Barry Dejay I will you\n",
            "--> Curse Wikipedia has no respect for God Wikipedia is full of lies or dangerously evil half truths Wikipedia has no respect for religion The following users of Wikipedia namely Redtigerxyz Priyanath Emperor Genius Raj Wikidas Wikiveer and DaGizza have all committed blasphemy and sacrilage Curse upon you that you will all perish I curse the following users of Wikipedia namely Redtigerxyz Priyanath Emperor Genius Raj Wikidas Wikiveer and DaGizza that you will all perish I curse that the Wikipedia will entirely perish I beg forgiveness from the Supreme God Lord Vishnu for choosing the blasphemous Wikipedia website to write about the truth A true devote of the Supreme Lord Vishnu has been hurt and my curse never goes in vain I will never again edit or read or go to the evil Wikipedia website forever Delete my user id and all edits you evil Wikipedians Mr DaGizza you are a Male Chauvinist Pig and a misogynist to the core and you call yourself an administrator Ridiculous Mr DaGizza you are a curse to your existance A man like you who cannot respect women is a worthless in his existance You Wikipedians are useless people You are a burden to the civilized world You are not even worth hatred You Wikipedians must be ignored Curse\n",
            "--> Hahaha you dont actually believe this bullshit you are telling me right now You are talking about the access to the country or representatives to the government not Kim Jong Un himself Those are two totally different things although I could understand your stupidity since North Koreans think that Kim Jong un is the governement im just saying Go Troll somewhere else kid\n",
            "--> Blocking Mardyks Guess what Loser Know what a cockblocker is Hahahaha M\n",
            "--> Wikipedia administrators are defending a mass murdering psychopath\n",
            "--> You wasted your own time Take this advice with you Pull your head out of your ass Be real and don't spend the rest of your life sucking ass Have a nice life Goodbye mailbox\n",
            "--> A few things to get straight Firstly I do not like you You look like a smug little prick to me Secondly I do not like your ethnicity Not one little bit I'd like you to explain yourself on that count Thirdly your dog is a bit of a bender\n",
            "--> ok stop being lame seriously go watch pokemon\n",
            "--> I did not intend to be disruptive I was genuineley upset by the word constantly I only tried to make it look like an april fool joke after you explanation made me look like an uptight weirdo\n",
            "--> Matt when mattsanchez info goes live on Monday among other things you'll see an invitation to be interviewed This time you'll have nowhere to hide Let's see who's a victim and who's a coward\n",
            "--> Do not help the jew Schnider Final warning\n",
            "--> Don't peddle your crap please Hate to see another article get disputed for neutrality due to you\n",
            "--> You really are a rebel guy rebelguys Time to get oral from a prostitute'''\n",
            "--> Of course a true Dub will say 'depaaarted' or more likely f in' gone\n",
            "--> Muslim Men Harassment of MM page It is amazing how three muslim men jumped all over this page right after I added a number of things minutes after all three men all muslims and cleaned it up Does a woman working for human rights in Pakistan really get under your skin so badly Wow So sweetie if you are so bloody busy why not get busy and stop harassing the women Are you that threatened\n",
            "--> Tried to be productive look at my contributions but hit my head against a wall of spoiled greek children or probably under pay from Greek Government that purposely keep vandalizing the Albania related pages and keep iritating the albanian editors until they explode and get banned As a historian I blush with what I find quoted as reliable information on the wikipedia pages and the quality of the editors and sources Time to move to the French pages a lot of readers there still more languages to go Till next time Wikipedia sucks\n",
            "--> You know I was thinking Nobody really attacked me before I revealed my age here After I announced that I was I was subject to a constant storm of harassment and abuse The same thing goes for when I was on The Sandbox when I was Before people knew my age they didn't care After I told them my age they hated me It's just so amusing how the idiot Soapboxers think of teenagers as being responsible for the decline of The Soapbox like it was ever any good to begin with This is funny because the adults are the dumbest people here Mauricio Chuppah Redneckgirl Pinky Scooby GG ForeverLostTinkerbell greenrabbit StarRocketsInFlight Bree Robinson enigma CocaineNightmares TokyoDome Chad Ocho Cinco Steve Lake all adults The teenage posters here are typically the smartest ones Let's see G Dawg Head Banging Brunette ClassicAge Metropolis even though he's a bipolar weirdo ChrisScript just to name a few All I ever see adults posting is rate my poo my ballz smell funny whoz hawter me or ur mom i like to rape little girls and HEY GUYZ LOOK AT ME IM AN ATTENTION WHORE The adult posters here are immature moronic savage bullies with the mental capacity of a retarded year old Whereas most of the teenagers here are thoughtful intelligent mature and often profound But they're subject to constant schoolyard bullying by the idiot adult posters who think they're somehow superior because they were born and dropped on their head earlier Soapbox logic never fails to amuse me\n",
            "--> Here's an idea Go fuck yourself cumshitter\n",
            "--> WILL MY MOTHERFUCKING SAFETY BE GUARANTEED I FUCKING HOPE SO I'M BRINGING MY OWN FUCKIN' WEAPONS PAY ME WHEN I GET BACK MOTHERFUCKERS OH YEAH I'VE GOT A JOKE A FAMILY HUSBAND WIFE SON DAUGHTER DOG WALKS INTO AN AGENT'S OFFICE AND TELLS HIM THAT THEY'VE GOT A GREAT VAUDEVILLE ROUTINE HE SAYS WE DON'T HIRE KIDDY ACTS AND THEY SAY BUT WE'RE REALLY GOOD AND SO THE AGENT SAYS FINE LET ME SEE WHAT YOU'VE GOT BUT IF YOU SUCK I'M THROWING YOU OUT SO THE FAMILY GETS READY THE DAUGHTER HITS THE CD PLAYER AND CIRCUS MUSIC BEGINS PLAYING THE FATHER JUMP KICKS THE SON IN THE HEAD AND STOMS HIS FACE IN THE GROUND UNTIL IT'S A BLOODY PULP THEN PROCEEDS TO JERK OFF AND CUM ALL OVER HIS SHATTERED SKULL MEANWHILE THE MOTHER BEGINS VIOLENTLY FINGER FUCKING THE DAUGHTER AS THE DOG FUCKS THE MOTHER IN THE ASS HOLE THIS IS THE POINT WHEN THE FATHER TAKES THE LEFTOVER BRAIN MATTER FROM THE SON'S HEAD AND SHOVES IT INTO THE MOTHER'S PUSSY THEN BEGINS FUCKING HER PUSSY WHILE SIMULTANEOUSLY STICKING HIS FINGER DOWN THE DAUGHTER'S THROAT UNTIL SHE VOMITS ALL OVER THEM BOTH THEN THE DOG BITES THE MOTHER'S HAND OFF AS SHE'S FINGER FUCKING THE DAUGHTER LEAVING HER HAND IN THE DAUGHTER'S PUSSY AS BLOOD SQUIRTS ALL OVER THE PLACE THE FATHER TAKES BLOOD FROM THE GROUND SMEARS IT ALL OVER THE MOTHER'S CHEST BENDS OVER AND BEGINS SHITTING ALL OVER THE OPEN WOUND WHERE HER HAND USED TO BE BEFORE THE DOG BIT IT OFF THEY TAKE THE DOG AND SHOVE IT IN A MICROWAVE HEATING IT UP UNTIL IT EXPLODES THEN TAKE THE DOG REMAINS MIX IT WITH THE FATHER'S SHIT THE SON'S HEAD WOUND AND THE FATHER'S CUM AND SHOVE IT INTO THE DAUGHTER'S MOUTH THEN THE FATHER RIPS THE SON'S DICK OFF AND FUCKS THE DAUGHTER WITH IT AS THE MOTHER LOCATE'S THE SON'S TESTICLES BREAKS THEM OPEN AND DRINKS THE SPERM THAT COMES OUT THEN THE FAMILY LINES UP AND SAYS TA DA THERE'S SILENCE FROM THE AGENT UNTIL HE FINALLY SAYS I LOVE IT WHAT DO YOU CALL THAT AND THE FAMILY SAYS WE CALL IT THE ARISTOCRATS\n",
            "--> Fuck you Smith Please have me notified when you die I want to dance on your grave\n",
            "--> I shit on your face fuck you\n",
            "--> You are so retarded\n",
            "--> Groin You sad fuck I'm going to restore my edit and you are going to leave it or else I wil knee you in the groin yourself prick\n",
            "--> Video Game For pete sake if I see that false video game article one more time I'll throw a cat out of the window whoever you are stop it now it isn't funny or clever you are just making a moron out of yourself and I bet that was the same person who changed the test card date too\n",
            "--> HE LIKES ITIN THE ASS BY MUHAMAD ALI AND KELLY HAS A GIANT PENIS AND ALSO FUCKED COLUMBUS\n",
            "--> Just shut up and stay shut Don't edit anymore\n",
            "--> P S Are you a b tard\n",
            "--> Ohhh I'm sorry did I hurt your little feelings Let's all shed a couple tears together LOL What a joke I bet you feel pretty important pathetic little wikipedia volunteer Have fun living in your mother's basement drawing comic books lowlife\n",
            "--> Fuck off you murdering scum\n",
            "--> I TAKE OFFENSE I take great offense that some pompous sanctimonious twit thinks that no one should be allowed to express appreciation for women like the Gibson Girl as the fine featured and achingly beautiful creatures that they are I don't know what kind of totalitarian feminazi dystopian agenda you are trying to foist on people but don't do it here This encyclopedia is based on free speech and a free exchange of information not bogus political correctness and schoolmarmish thought policing I'll take a Gibson Girl over you anyday\n",
            "--> you gay motherfucker i know where you live i am going to sand your face off then i am to going to beat you to a pulp you chicken shagger\n",
            "--> Ok Dennis Brown thanks for telling me I was taking this a bit way too serious ill be careful for this time stupid bots\n",
            "--> Wikipedia is full of fools Who takes money and makes people work for free Wikipedia You might as well ban me you fool What's taking so long Wiki is a stupid place it's Jimbo's Cult\n",
            "--> Why are you changing the SOMALI PEOPLE WIKI SERIOUSLY THAT PAGE IS BIASED TO ONE CLAN I ADDED A MORE DIVERSE REPRESENTATION OF SOMALI PEOPLE YOU STUPID CRIMINAL\n",
            "--> Transistor The transistor page does not have a Principle of Operation section because a the physicists know about it but don't want to share it b they just don't know how it works I was thinking about it and came up with a fairly decent concept of how it works I put it on WIKI I think the guys got jealous and here I am discussing pretty much nothing PS and my language is pathetic you naughty naughty boy I'll eat you\n",
            "--> you studid cock sucker u stop callin me ok its a frank Garrett eatin the worms crawl outa your moms pussy you fucking retardo hit I retardo\n",
            "--> FisherQueen would you kindly stop following my every move and deleting things off MY user page Havent you got anything better to do than piss people off on Wikipedia\n"
          ]
        }
      ]
    },
    {
      "cell_type": "markdown",
      "metadata": {
        "id": "Q3NE0pAn2QQC"
      },
      "source": [
        "### C) Prétraitement des données\n",
        "Préparation des données en vue de leur utilisation dans notre modèle."
      ]
    },
    {
      "cell_type": "code",
      "execution_count": null,
      "metadata": {
        "tags": [],
        "id": "iG2QlFM12QQC"
      },
      "outputs": [],
      "source": [
        "from tensorflow.keras.layers import TextVectorization"
      ]
    },
    {
      "cell_type": "code",
      "execution_count": null,
      "metadata": {
        "tags": [],
        "id": "ujsHO5ha2QQC"
      },
      "outputs": [],
      "source": [
        "X = df['comment_text'] # stock les commentaires\n",
        "y = df[df.columns[2:]].values # stock les étiquettes"
      ]
    },
    {
      "cell_type": "code",
      "source": [
        "X"
      ],
      "metadata": {
        "id": "JaLg66SDH2_g",
        "colab": {
          "base_uri": "https://localhost:8080/"
        },
        "outputId": "b9d2f23e-c531-4b11-e421-917fc0d8ee9a"
      },
      "execution_count": null,
      "outputs": [
        {
          "output_type": "execute_result",
          "data": {
            "text/plain": [
              "0         Explanation Why the edits made under my userna...\n",
              "1         D'aww He matches this background colour I'm se...\n",
              "2         Hey man I'm really not trying to edit war It's...\n",
              "3         More I can't make any real suggestions on impr...\n",
              "4         You sir are my hero Any chance you remember wh...\n",
              "                                ...                        \n",
              "159566    And for the second time of asking when your vi...\n",
              "159567    You should be ashamed of yourself That is a ho...\n",
              "159568    Spitzer Umm theres no actual article for prost...\n",
              "159569    And it looks like it was actually you who put ...\n",
              "159570    And I really don't think you understand I came...\n",
              "Name: comment_text, Length: 159571, dtype: object"
            ]
          },
          "metadata": {},
          "execution_count": 34
        }
      ]
    },
    {
      "cell_type": "code",
      "execution_count": null,
      "metadata": {
        "tags": [],
        "id": "Q0PF041W2QQC"
      },
      "outputs": [],
      "source": [
        "# Limite le vocabulaire aux 200 000 mots(tokens) les plus fréquents du dataset pour des raisons de performances et d'efficacité.\n",
        "MAX_FEATURES = 200000"
      ]
    },
    {
      "cell_type": "markdown",
      "source": [
        "#### C.1) Initialisation de la Couche de Vectorisation de Texte\n",
        "\n",
        "\n",
        " Utile pour convertir les mots en indices et créer un vocabulaire."
      ],
      "metadata": {
        "id": "z16mKdw0ZCK5"
      }
    },
    {
      "cell_type": "code",
      "execution_count": null,
      "metadata": {
        "tags": [],
        "id": "Nc47BOHO2QQD"
      },
      "outputs": [],
      "source": [
        "# Tokénisation : conversion de chaque commentaire en séquences de mots (tokens)\n",
        "# Vectorisation : conversion de chaque token (mot) en valeur numérique\n",
        "\n",
        "vectorizer = TextVectorization(max_tokens=MAX_FEATURES,\n",
        "                               output_sequence_length=1800, # la longueur du com ne peut pas excéder 1800 mots\n",
        "                               output_mode='int') # convertit chaque mot en entier"
      ]
    },
    {
      "cell_type": "markdown",
      "source": [
        "#### C.2) Adaptation de la Couche de Vectorisation de Texte à nos données\n",
        "\n",
        " Création du vocabulaire : apprentissage du vocabulaire des commentaires."
      ],
      "metadata": {
        "id": "zE1Q0cs8Zmx6"
      }
    },
    {
      "cell_type": "code",
      "execution_count": null,
      "metadata": {
        "tags": [],
        "id": "QM0qK2FD2QQD"
      },
      "outputs": [],
      "source": [
        "vectorizer.adapt(X.values)"
      ]
    },
    {
      "cell_type": "code",
      "source": [
        "# Vérification du vocabulaire\n",
        "vocab = vectorizer.get_vocabulary()\n",
        "df = pd.DataFrame(vocab, columns=['Words'])\n",
        "df.head(10)"
      ],
      "metadata": {
        "colab": {
          "base_uri": "https://localhost:8080/",
          "height": 363
        },
        "id": "Ltvk4LpPNztC",
        "outputId": "b4281145-09fc-49c0-a4ac-12b3e4e3ac93"
      },
      "execution_count": null,
      "outputs": [
        {
          "output_type": "execute_result",
          "data": {
            "text/plain": [
              "   Words\n",
              "0       \n",
              "1  [UNK]\n",
              "2    the\n",
              "3     to\n",
              "4     of\n",
              "5    and\n",
              "6      a\n",
              "7    you\n",
              "8      i\n",
              "9     is"
            ],
            "text/html": [
              "\n",
              "  <div id=\"df-f5275082-edc8-43d1-803c-e2cb758d64a2\" class=\"colab-df-container\">\n",
              "    <div>\n",
              "<style scoped>\n",
              "    .dataframe tbody tr th:only-of-type {\n",
              "        vertical-align: middle;\n",
              "    }\n",
              "\n",
              "    .dataframe tbody tr th {\n",
              "        vertical-align: top;\n",
              "    }\n",
              "\n",
              "    .dataframe thead th {\n",
              "        text-align: right;\n",
              "    }\n",
              "</style>\n",
              "<table border=\"1\" class=\"dataframe\">\n",
              "  <thead>\n",
              "    <tr style=\"text-align: right;\">\n",
              "      <th></th>\n",
              "      <th>Words</th>\n",
              "    </tr>\n",
              "  </thead>\n",
              "  <tbody>\n",
              "    <tr>\n",
              "      <th>0</th>\n",
              "      <td></td>\n",
              "    </tr>\n",
              "    <tr>\n",
              "      <th>1</th>\n",
              "      <td>[UNK]</td>\n",
              "    </tr>\n",
              "    <tr>\n",
              "      <th>2</th>\n",
              "      <td>the</td>\n",
              "    </tr>\n",
              "    <tr>\n",
              "      <th>3</th>\n",
              "      <td>to</td>\n",
              "    </tr>\n",
              "    <tr>\n",
              "      <th>4</th>\n",
              "      <td>of</td>\n",
              "    </tr>\n",
              "    <tr>\n",
              "      <th>5</th>\n",
              "      <td>and</td>\n",
              "    </tr>\n",
              "    <tr>\n",
              "      <th>6</th>\n",
              "      <td>a</td>\n",
              "    </tr>\n",
              "    <tr>\n",
              "      <th>7</th>\n",
              "      <td>you</td>\n",
              "    </tr>\n",
              "    <tr>\n",
              "      <th>8</th>\n",
              "      <td>i</td>\n",
              "    </tr>\n",
              "    <tr>\n",
              "      <th>9</th>\n",
              "      <td>is</td>\n",
              "    </tr>\n",
              "  </tbody>\n",
              "</table>\n",
              "</div>\n",
              "    <div class=\"colab-df-buttons\">\n",
              "\n",
              "  <div class=\"colab-df-container\">\n",
              "    <button class=\"colab-df-convert\" onclick=\"convertToInteractive('df-f5275082-edc8-43d1-803c-e2cb758d64a2')\"\n",
              "            title=\"Convert this dataframe to an interactive table.\"\n",
              "            style=\"display:none;\">\n",
              "\n",
              "  <svg xmlns=\"http://www.w3.org/2000/svg\" height=\"24px\" viewBox=\"0 -960 960 960\">\n",
              "    <path d=\"M120-120v-720h720v720H120Zm60-500h600v-160H180v160Zm220 220h160v-160H400v160Zm0 220h160v-160H400v160ZM180-400h160v-160H180v160Zm440 0h160v-160H620v160ZM180-180h160v-160H180v160Zm440 0h160v-160H620v160Z\"/>\n",
              "  </svg>\n",
              "    </button>\n",
              "\n",
              "  <style>\n",
              "    .colab-df-container {\n",
              "      display:flex;\n",
              "      gap: 12px;\n",
              "    }\n",
              "\n",
              "    .colab-df-convert {\n",
              "      background-color: #E8F0FE;\n",
              "      border: none;\n",
              "      border-radius: 50%;\n",
              "      cursor: pointer;\n",
              "      display: none;\n",
              "      fill: #1967D2;\n",
              "      height: 32px;\n",
              "      padding: 0 0 0 0;\n",
              "      width: 32px;\n",
              "    }\n",
              "\n",
              "    .colab-df-convert:hover {\n",
              "      background-color: #E2EBFA;\n",
              "      box-shadow: 0px 1px 2px rgba(60, 64, 67, 0.3), 0px 1px 3px 1px rgba(60, 64, 67, 0.15);\n",
              "      fill: #174EA6;\n",
              "    }\n",
              "\n",
              "    .colab-df-buttons div {\n",
              "      margin-bottom: 4px;\n",
              "    }\n",
              "\n",
              "    [theme=dark] .colab-df-convert {\n",
              "      background-color: #3B4455;\n",
              "      fill: #D2E3FC;\n",
              "    }\n",
              "\n",
              "    [theme=dark] .colab-df-convert:hover {\n",
              "      background-color: #434B5C;\n",
              "      box-shadow: 0px 1px 3px 1px rgba(0, 0, 0, 0.15);\n",
              "      filter: drop-shadow(0px 1px 2px rgba(0, 0, 0, 0.3));\n",
              "      fill: #FFFFFF;\n",
              "    }\n",
              "  </style>\n",
              "\n",
              "    <script>\n",
              "      const buttonEl =\n",
              "        document.querySelector('#df-f5275082-edc8-43d1-803c-e2cb758d64a2 button.colab-df-convert');\n",
              "      buttonEl.style.display =\n",
              "        google.colab.kernel.accessAllowed ? 'block' : 'none';\n",
              "\n",
              "      async function convertToInteractive(key) {\n",
              "        const element = document.querySelector('#df-f5275082-edc8-43d1-803c-e2cb758d64a2');\n",
              "        const dataTable =\n",
              "          await google.colab.kernel.invokeFunction('convertToInteractive',\n",
              "                                                    [key], {});\n",
              "        if (!dataTable) return;\n",
              "\n",
              "        const docLinkHtml = 'Like what you see? Visit the ' +\n",
              "          '<a target=\"_blank\" href=https://colab.research.google.com/notebooks/data_table.ipynb>data table notebook</a>'\n",
              "          + ' to learn more about interactive tables.';\n",
              "        element.innerHTML = '';\n",
              "        dataTable['output_type'] = 'display_data';\n",
              "        await google.colab.output.renderOutput(dataTable, element);\n",
              "        const docLink = document.createElement('div');\n",
              "        docLink.innerHTML = docLinkHtml;\n",
              "        element.appendChild(docLink);\n",
              "      }\n",
              "    </script>\n",
              "  </div>\n",
              "\n",
              "\n",
              "<div id=\"df-2c261ba9-174f-4521-9098-fd7422cdc9f5\">\n",
              "  <button class=\"colab-df-quickchart\" onclick=\"quickchart('df-2c261ba9-174f-4521-9098-fd7422cdc9f5')\"\n",
              "            title=\"Suggest charts\"\n",
              "            style=\"display:none;\">\n",
              "\n",
              "<svg xmlns=\"http://www.w3.org/2000/svg\" height=\"24px\"viewBox=\"0 0 24 24\"\n",
              "     width=\"24px\">\n",
              "    <g>\n",
              "        <path d=\"M19 3H5c-1.1 0-2 .9-2 2v14c0 1.1.9 2 2 2h14c1.1 0 2-.9 2-2V5c0-1.1-.9-2-2-2zM9 17H7v-7h2v7zm4 0h-2V7h2v10zm4 0h-2v-4h2v4z\"/>\n",
              "    </g>\n",
              "</svg>\n",
              "  </button>\n",
              "\n",
              "<style>\n",
              "  .colab-df-quickchart {\n",
              "      --bg-color: #E8F0FE;\n",
              "      --fill-color: #1967D2;\n",
              "      --hover-bg-color: #E2EBFA;\n",
              "      --hover-fill-color: #174EA6;\n",
              "      --disabled-fill-color: #AAA;\n",
              "      --disabled-bg-color: #DDD;\n",
              "  }\n",
              "\n",
              "  [theme=dark] .colab-df-quickchart {\n",
              "      --bg-color: #3B4455;\n",
              "      --fill-color: #D2E3FC;\n",
              "      --hover-bg-color: #434B5C;\n",
              "      --hover-fill-color: #FFFFFF;\n",
              "      --disabled-bg-color: #3B4455;\n",
              "      --disabled-fill-color: #666;\n",
              "  }\n",
              "\n",
              "  .colab-df-quickchart {\n",
              "    background-color: var(--bg-color);\n",
              "    border: none;\n",
              "    border-radius: 50%;\n",
              "    cursor: pointer;\n",
              "    display: none;\n",
              "    fill: var(--fill-color);\n",
              "    height: 32px;\n",
              "    padding: 0;\n",
              "    width: 32px;\n",
              "  }\n",
              "\n",
              "  .colab-df-quickchart:hover {\n",
              "    background-color: var(--hover-bg-color);\n",
              "    box-shadow: 0 1px 2px rgba(60, 64, 67, 0.3), 0 1px 3px 1px rgba(60, 64, 67, 0.15);\n",
              "    fill: var(--button-hover-fill-color);\n",
              "  }\n",
              "\n",
              "  .colab-df-quickchart-complete:disabled,\n",
              "  .colab-df-quickchart-complete:disabled:hover {\n",
              "    background-color: var(--disabled-bg-color);\n",
              "    fill: var(--disabled-fill-color);\n",
              "    box-shadow: none;\n",
              "  }\n",
              "\n",
              "  .colab-df-spinner {\n",
              "    border: 2px solid var(--fill-color);\n",
              "    border-color: transparent;\n",
              "    border-bottom-color: var(--fill-color);\n",
              "    animation:\n",
              "      spin 1s steps(1) infinite;\n",
              "  }\n",
              "\n",
              "  @keyframes spin {\n",
              "    0% {\n",
              "      border-color: transparent;\n",
              "      border-bottom-color: var(--fill-color);\n",
              "      border-left-color: var(--fill-color);\n",
              "    }\n",
              "    20% {\n",
              "      border-color: transparent;\n",
              "      border-left-color: var(--fill-color);\n",
              "      border-top-color: var(--fill-color);\n",
              "    }\n",
              "    30% {\n",
              "      border-color: transparent;\n",
              "      border-left-color: var(--fill-color);\n",
              "      border-top-color: var(--fill-color);\n",
              "      border-right-color: var(--fill-color);\n",
              "    }\n",
              "    40% {\n",
              "      border-color: transparent;\n",
              "      border-right-color: var(--fill-color);\n",
              "      border-top-color: var(--fill-color);\n",
              "    }\n",
              "    60% {\n",
              "      border-color: transparent;\n",
              "      border-right-color: var(--fill-color);\n",
              "    }\n",
              "    80% {\n",
              "      border-color: transparent;\n",
              "      border-right-color: var(--fill-color);\n",
              "      border-bottom-color: var(--fill-color);\n",
              "    }\n",
              "    90% {\n",
              "      border-color: transparent;\n",
              "      border-bottom-color: var(--fill-color);\n",
              "    }\n",
              "  }\n",
              "</style>\n",
              "\n",
              "  <script>\n",
              "    async function quickchart(key) {\n",
              "      const quickchartButtonEl =\n",
              "        document.querySelector('#' + key + ' button');\n",
              "      quickchartButtonEl.disabled = true;  // To prevent multiple clicks.\n",
              "      quickchartButtonEl.classList.add('colab-df-spinner');\n",
              "      try {\n",
              "        const charts = await google.colab.kernel.invokeFunction(\n",
              "            'suggestCharts', [key], {});\n",
              "      } catch (error) {\n",
              "        console.error('Error during call to suggestCharts:', error);\n",
              "      }\n",
              "      quickchartButtonEl.classList.remove('colab-df-spinner');\n",
              "      quickchartButtonEl.classList.add('colab-df-quickchart-complete');\n",
              "    }\n",
              "    (() => {\n",
              "      let quickchartButtonEl =\n",
              "        document.querySelector('#df-2c261ba9-174f-4521-9098-fd7422cdc9f5 button');\n",
              "      quickchartButtonEl.style.display =\n",
              "        google.colab.kernel.accessAllowed ? 'block' : 'none';\n",
              "    })();\n",
              "  </script>\n",
              "</div>\n",
              "    </div>\n",
              "  </div>\n"
            ]
          },
          "metadata": {},
          "execution_count": 40
        }
      ]
    },
    {
      "cell_type": "code",
      "source": [
        "# Test\n",
        "vectorizer(\"hello world\")"
      ],
      "metadata": {
        "colab": {
          "base_uri": "https://localhost:8080/"
        },
        "id": "70T0Hb25dKpm",
        "outputId": "1e25b458-5439-409a-8ea3-2655fa1abbf2"
      },
      "execution_count": null,
      "outputs": [
        {
          "output_type": "execute_result",
          "data": {
            "text/plain": [
              "<tf.Tensor: shape=(1800,), dtype=int64, numpy=array([296, 253,   0, ...,   0,   0,   0])>"
            ]
          },
          "metadata": {},
          "execution_count": 44
        }
      ]
    },
    {
      "cell_type": "markdown",
      "source": [
        "#### C.3) Application de la Couche de Vectorisation de Texte sur nos données\n"
      ],
      "metadata": {
        "id": "r_AdIsT3dRoG"
      }
    },
    {
      "cell_type": "code",
      "source": [
        "# Sauvegarde l'état du vectoriseur pour une utilisation ultérieure\n",
        "import pickle\n",
        "\n",
        "pickle.dump({'config': vectorizer.get_config(),\n",
        "             'weights': vectorizer.get_weights()}\n",
        "            , open(\"tv_layer.pkl\", \"wb\"))"
      ],
      "metadata": {
        "id": "y_BpRmjo-nQf"
      },
      "execution_count": null,
      "outputs": []
    },
    {
      "cell_type": "code",
      "execution_count": null,
      "metadata": {
        "tags": [],
        "id": "FAU5-gfA2QQD"
      },
      "outputs": [],
      "source": [
        "vectorized_text = vectorizer(X.values)"
      ]
    },
    {
      "cell_type": "code",
      "source": [
        "vectorized_text"
      ],
      "metadata": {
        "colab": {
          "base_uri": "https://localhost:8080/"
        },
        "id": "SXRXOaAzcYVR",
        "outputId": "a91cd5e0-fc23-4377-9ad6-2b937b92bf7d"
      },
      "execution_count": null,
      "outputs": [
        {
          "output_type": "execute_result",
          "data": {
            "text/plain": [
              "<tf.Tensor: shape=(159571, 1800), dtype=int64, numpy=\n",
              "array([[   666,     78,      2, ...,      0,      0,      0],\n",
              "       [150735,     54,   2507, ...,      0,      0,      0],\n",
              "       [   403,    426,     70, ...,      0,      0,      0],\n",
              "       ...,\n",
              "       [ 30607,   6897,    394, ...,      0,      0,      0],\n",
              "       [     5,     12,    559, ...,      0,      0,      0],\n",
              "       [     5,      8,    134, ...,      0,      0,      0]])>"
            ]
          },
          "metadata": {},
          "execution_count": 52
        }
      ]
    },
    {
      "cell_type": "markdown",
      "source": [
        "### D) Manipulation et Gestion des données pour l'entrainement"
      ],
      "metadata": {
        "id": "nDvPeBSHT1ZJ"
      }
    },
    {
      "cell_type": "markdown",
      "source": [
        "#### D.1) Création d'un pipeline de données avec TensorFlow\n",
        "\n",
        "Un pipeline de données permet d'optimiser le traitement des données et d'assurer que celles-ci sont fournies au modèle de manière efficace et structurée.\n",
        "\n",
        "- `Map` (Correspond à notre fonction 'vectorizer') :\n",
        "Transforme le texte brut en vecteurs numériques compréhensible pour notre modèle.\n",
        "\n",
        "- `Cache` (Mise en Cache) :\n",
        "Les données transformées sont mises en cache, elles sont stockées temporairement, soit en mémoire, soit sur le disque. Permet de réduire le temps de chargement des données lors des itérations successives pendant l'entraînement du modèle.\n",
        "\n",
        "- `Shuffle` (Mélange) :\n",
        "En mélangeant les données, nous nous assurons que chaque lot de données est différent, ce qui réduit le risque de surapprentissage.\n",
        "\n",
        "- `Batch` (Lot) :\n",
        "Regroupe les données en lots de taille spécifiée.\n",
        "\n",
        "- `Prefetch` (Préchargement) :\n",
        "Le préchargement prépare les données pour les étapes suivantes pendant que le modèle est en train de s'entraîner. Permet de réduire les temps d'attente et optimise l'utilisation des ressources. Sans préchargement, le modèle pourrait devoir attendre que les données soient chargées et préparées, ce qui crée un goulot d'étranglement."
      ],
      "metadata": {
        "id": "KP79XpL3caoc"
      }
    },
    {
      "cell_type": "code",
      "execution_count": null,
      "metadata": {
        "tags": [],
        "id": "v_Aztbu02QQD"
      },
      "outputs": [],
      "source": [
        "#MCSHBAP - map, cache, shuffle, batch, prefetch\n",
        "dataset = tf.data.Dataset.from_tensor_slices((vectorized_text, y))\n",
        "dataset = dataset.cache()\n",
        "dataset = dataset.shuffle(160000)\n",
        "dataset = dataset.batch(16)\n",
        "dataset = dataset.prefetch(8) # précharge 8 lots en avance"
      ]
    },
    {
      "cell_type": "markdown",
      "source": [
        "#### D.2) Création des partitions d'entraînement, de validation et de test\n",
        "\n",
        "- `train` : L'entraînement du modèle se fait sur cet ensemble.\n",
        "\n",
        "- `val` : L'ensemble de validation est utilisé pour évaluer le modèle pendant l'entraînement et pour ajuster les hyperparamètres.\n",
        "\n",
        "- `test` : L'ensemble de test est utilisé pour évaluer la performance finale du modèle après l'entraînement.\n"
      ],
      "metadata": {
        "id": "dfgwf2V7msQr"
      }
    },
    {
      "cell_type": "code",
      "execution_count": null,
      "metadata": {
        "tags": [],
        "id": "BjTlh9fO2QQD"
      },
      "outputs": [],
      "source": [
        "train = dataset.take(int(len(dataset)*.7)) # les 70% premiers éléments du dataset\n",
        "val = dataset.skip(int(len(dataset)*.7)).take(int(len(dataset)*.2)) # les 20% suivants\n",
        "test = dataset.skip(int(len(dataset)*.9)).take(int(len(dataset)*.1)) # les 10% restants"
      ]
    },
    {
      "cell_type": "markdown",
      "source": [
        "#### D.3) Création d'un itérateur\n",
        "\n",
        "Un itérateur permet d'accéder aux données de manière séquentielle, lot par lot."
      ],
      "metadata": {
        "id": "_bQ2lxJTowzr"
      }
    },
    {
      "cell_type": "code",
      "source": [
        "train_generator = train.as_numpy_iterator()\n",
        "train_generator.next()"
      ],
      "metadata": {
        "id": "M8ivMsH4oFPz",
        "colab": {
          "base_uri": "https://localhost:8080/"
        },
        "outputId": "50197d24-bc93-4eb6-e9bc-a56ccba6a9a1"
      },
      "execution_count": null,
      "outputs": [
        {
          "output_type": "execute_result",
          "data": {
            "text/plain": [
              "(array([[  140,   194,    58, ...,     0,     0,     0],\n",
              "        [   33,  1475,     2, ...,     0,     0,     0],\n",
              "        [    8,    72,    41, ...,     0,     0,     0],\n",
              "        ...,\n",
              "        [ 1414,     7,   192, ...,     0,     0,     0],\n",
              "        [28972, 16360,     8, ...,     0,     0,     0],\n",
              "        [    8,   738,    10, ...,     0,     0,     0]]),\n",
              " array([[0, 0, 0, 0, 0, 0],\n",
              "        [0, 0, 0, 0, 0, 0],\n",
              "        [0, 0, 0, 0, 0, 0],\n",
              "        [0, 0, 0, 0, 0, 0],\n",
              "        [0, 0, 0, 0, 0, 0],\n",
              "        [0, 0, 0, 0, 0, 0],\n",
              "        [0, 0, 0, 0, 1, 0],\n",
              "        [0, 0, 0, 0, 0, 0],\n",
              "        [0, 0, 0, 0, 0, 0],\n",
              "        [0, 0, 0, 0, 0, 0],\n",
              "        [0, 0, 0, 0, 0, 0],\n",
              "        [0, 0, 0, 0, 0, 0],\n",
              "        [1, 0, 0, 0, 0, 0],\n",
              "        [0, 0, 0, 0, 0, 0],\n",
              "        [0, 0, 0, 0, 0, 0],\n",
              "        [0, 0, 0, 0, 0, 0]]))"
            ]
          },
          "metadata": {},
          "execution_count": 26
        }
      ]
    },
    {
      "cell_type": "markdown",
      "metadata": {
        "id": "grule4Gn2QQD"
      },
      "source": [
        "## Etape 4 : Création du Modèle\n",
        "\n",
        "**Réseau de Neurones Séquentiel avec LSTM**\n",
        "\n",
        "Ce modèle est un réseau de neurones séquentiel, caractérisé par une organisation linéaire de ses couches. Chaque couche est conçue pour recevoir les données traitées par la couche précédente, les transformer, puis passer le résultat à la couche suivante.\n",
        "\n",
        "- `Couche d'Embedding` : Couche d'entrée qui transforme les indices de mots (tokens) en vecteurs denses. Elle est essentielle non seulement pour représenter l'identité unique de chaque mot, mais aussi pour capturer des aspects plus nuancés de leur signification et les relations sémantiques entre les mots.\n",
        "\n",
        "- `Couche LSTM Bidirectionnelle` : Traite les informations dans les deux sens (avant et arrière) du texte. Utile pour comprendre le contexte complet de la phrase.\n",
        "\n",
        "- `Couches Denses`: Couches composées de neurones entièrement connectés, utilisées pour extraire et apprendre des motifs complexes à partir des données.\n",
        "\n",
        "- `Couche de Sortie`: La dernière couche du modèle est essentielle pour déterminer la ou les catégories à laquelle chaque commentaire appartient. Elle utilise la fonction d'activation 'sigmoid' qui est particulièrement adaptée pour les tâches de classification binaire ou multi-labels.\n"
      ]
    },
    {
      "cell_type": "code",
      "execution_count": null,
      "metadata": {
        "tags": [],
        "id": "RyH28mbc2QQE"
      },
      "outputs": [],
      "source": [
        "from tensorflow.keras.models import Sequential\n",
        "from tensorflow.keras.layers import LSTM, Dropout, Bidirectional, Dense, Embedding"
      ]
    },
    {
      "cell_type": "code",
      "execution_count": null,
      "metadata": {
        "tags": [],
        "id": "IKQWH2PN2QQE"
      },
      "outputs": [],
      "source": [
        "model = Sequential()\n",
        "# Couche d'Embedding\n",
        "model.add(Embedding(MAX_FEATURES+1, 32))\n",
        "# Couche LSTM Bidirectionnelle\n",
        "model.add(Bidirectional(LSTM(32, activation='tanh')))\n",
        "# Couches Denses\n",
        "model.add(Dense(128, activation='relu'))\n",
        "model.add(Dense(256, activation='relu'))\n",
        "model.add(Dense(128, activation='relu'))\n",
        "# Couche de Sortie\n",
        "model.add(Dense(6, activation='sigmoid'))"
      ]
    },
    {
      "cell_type": "code",
      "execution_count": null,
      "metadata": {
        "tags": [],
        "id": "_d2Ob3_g2QQE"
      },
      "outputs": [],
      "source": [
        "# configuration pour l'entraînement\n",
        "model.compile(loss='BinaryCrossentropy', optimizer='Adam')"
      ]
    },
    {
      "cell_type": "code",
      "execution_count": null,
      "metadata": {
        "tags": [],
        "id": "as7NYu7n2QQE",
        "colab": {
          "base_uri": "https://localhost:8080/"
        },
        "outputId": "871a92bf-f2ba-424c-992b-9b084d2a283c"
      },
      "outputs": [
        {
          "output_type": "stream",
          "name": "stdout",
          "text": [
            "Model: \"sequential\"\n",
            "_________________________________________________________________\n",
            " Layer (type)                Output Shape              Param #   \n",
            "=================================================================\n",
            " embedding (Embedding)       (None, None, 32)          6400032   \n",
            "                                                                 \n",
            " bidirectional (Bidirection  (None, 64)                16640     \n",
            " al)                                                             \n",
            "                                                                 \n",
            " dense (Dense)               (None, 128)               8320      \n",
            "                                                                 \n",
            " dense_1 (Dense)             (None, 256)               33024     \n",
            "                                                                 \n",
            " dense_2 (Dense)             (None, 128)               32896     \n",
            "                                                                 \n",
            " dense_3 (Dense)             (None, 6)                 774       \n",
            "                                                                 \n",
            "=================================================================\n",
            "Total params: 6491686 (24.76 MB)\n",
            "Trainable params: 6491686 (24.76 MB)\n",
            "Non-trainable params: 0 (0.00 Byte)\n",
            "_________________________________________________________________\n"
          ]
        }
      ],
      "source": [
        "model.summary()"
      ]
    },
    {
      "cell_type": "code",
      "execution_count": null,
      "metadata": {
        "tags": [],
        "id": "xD4rq_a82QQE"
      },
      "outputs": [],
      "source": [
        "# Entraînement du modèle\n",
        "history = model.fit(train, epochs=10, validation_data=val)"
      ]
    },
    {
      "cell_type": "code",
      "source": [
        "# Sauvegarde du modèle entraîné\n",
        "model.save('newModel.h5')"
      ],
      "metadata": {
        "id": "QXBG677unj9y"
      },
      "execution_count": null,
      "outputs": []
    },
    {
      "cell_type": "markdown",
      "source": [
        "## Etape 5 : Evaluation du modèle"
      ],
      "metadata": {
        "id": "fWQSLD7lmW4T"
      }
    },
    {
      "cell_type": "markdown",
      "source": [
        "### A) Analyse Graphique"
      ],
      "metadata": {
        "id": "B7pEjYnwmfUt"
      }
    },
    {
      "cell_type": "code",
      "execution_count": null,
      "metadata": {
        "tags": [],
        "id": "kVY6Wfaw2QQE"
      },
      "outputs": [],
      "source": [
        "from matplotlib import pyplot as plt"
      ]
    },
    {
      "cell_type": "code",
      "execution_count": null,
      "metadata": {
        "jupyter": {
          "outputs_hidden": true
        },
        "tags": [],
        "id": "8YLyeInY2QQE",
        "colab": {
          "base_uri": "https://localhost:8080/",
          "height": 447
        },
        "outputId": "5987e16e-a622-49ae-9e53-6be2b7522327"
      },
      "outputs": [
        {
          "output_type": "display_data",
          "data": {
            "text/plain": [
              "<Figure size 800x500 with 0 Axes>"
            ]
          },
          "metadata": {}
        },
        {
          "output_type": "display_data",
          "data": {
            "text/plain": [
              "<Figure size 640x480 with 1 Axes>"
            ],
            "image/png": "[encoded data removed]"
          },
          "metadata": {}
        }
      ],
      "source": [
        "# Analyse du modèle pour 10 époques\n",
        "plt.figure(figsize=(8,5))\n",
        "pd.DataFrame(history.history).plot()\n",
        "plt.show()"
      ]
    },
    {
      "cell_type": "markdown",
      "source": [
        "- `Convergence` : La perte d'entraînement et la perte de validation diminuent, ce qui indique que le modèle apprend et améliore ses prédictions au fil du temps.\n",
        "\n",
        "- `Surapprentissage` : Il n'y a aucun signe évident de surapprentissage dans la plage d'époques fournie, car la perte de validation diminue en même temps que la perte d'entraînement. Le surapprentissage serait indiqué par une perte de validation qui commence à augmenter ou stagne tandis que la perte d'entraînement continue de diminuer."
      ],
      "metadata": {
        "id": "dRUDDjESumbH"
      }
    },
    {
      "cell_type": "markdown",
      "metadata": {
        "id": "h9A5u9J52QQF"
      },
      "source": [
        "### B) Analyse des métriques de performance\n",
        "\n",
        "Evaluation des métriques de performance sur l'ensemble de test pour voir comment le modèle performe sur des données non vues.\n",
        "\n",
        "- `La précision` : est une mesure de la qualité des prédictions positives du modèle. La précision répond à la question : \"Parmi tous les cas que le modèle a prédits comme étant positifs, combien étaient réellement positifs ?\"\n",
        "\n",
        "\n",
        "- `Le rappel` : est une métrique utilisée pour évaluer la capacité d'un modèle de classification à identifier correctement les cas positifs. Le rappel répond à la question : \"Parmi tous les cas réellement positifs, combien le modèle a-t-il réussi à identifier ?\"\n",
        "\n",
        "\n",
        "- `L'exactitude (accuracy)` : est une mesure de la performance globale du modèle."
      ]
    },
    {
      "cell_type": "code",
      "execution_count": null,
      "metadata": {
        "tags": [],
        "id": "4EvS7vBx2QQF"
      },
      "outputs": [],
      "source": [
        "from tensorflow.keras.metrics import Precision, Recall, CategoricalAccuracy"
      ]
    },
    {
      "cell_type": "code",
      "execution_count": null,
      "metadata": {
        "tags": [],
        "id": "Z1u9KxsD2QQF"
      },
      "outputs": [],
      "source": [
        "pre = Precision()\n",
        "re = Recall()\n",
        "acc = CategoricalAccuracy()"
      ]
    },
    {
      "cell_type": "code",
      "execution_count": null,
      "metadata": {
        "tags": [],
        "id": "qb9iInX12QQG"
      },
      "outputs": [],
      "source": [
        "for batch in test.as_numpy_iterator():\n",
        "    # Unpack the batch\n",
        "    X_true, y_true = batch\n",
        "    # Make a prediction\n",
        "    yhat = model.predict(X_true)\n",
        "\n",
        "    # Flatten the predictions\n",
        "    y_true = y_true.flatten()\n",
        "    yhat = yhat.flatten()\n",
        "\n",
        "    pre.update_state(y_true, yhat)\n",
        "    re.update_state(y_true, yhat)\n",
        "    acc.update_state(y_true, yhat)"
      ]
    },
    {
      "cell_type": "code",
      "execution_count": null,
      "metadata": {
        "tags": [],
        "id": "8DWJpzRg2QQG"
      },
      "outputs": [],
      "source": [
        "print(f'Precision: {pre.result().numpy()}, Recall:{re.result().numpy()}, Accuracy:{acc.result().numpy()}')"
      ]
    },
    {
      "cell_type": "markdown",
      "source": [
        "Result for 10 Epoch :  \n",
        "Precision: 0.9132593274116516,\n",
        "Recall:0.9254217147827148,\n",
        "Accuracy:0.49949848651885986"
      ],
      "metadata": {
        "id": "7GAakGRrEMPv"
      }
    },
    {
      "cell_type": "markdown",
      "metadata": {
        "id": "ws0RsNPn2QQE"
      },
      "source": [
        "### C) Test : utilisation du modèle pour faire des prédictions\n",
        "\n",
        "Appliquer à notre modèle entraîné de nouvelles données pour obtenir des prédictions."
      ]
    },
    {
      "cell_type": "code",
      "execution_count": null,
      "metadata": {
        "tags": [],
        "id": "HdmdQWbj2QQF"
      },
      "outputs": [],
      "source": [
        "input_text = vectorizer('I hate Harry, he deserves to die !')"
      ]
    },
    {
      "cell_type": "code",
      "source": [
        "model.predict"
      ],
      "metadata": {
        "id": "k5xzU6_deimR"
      },
      "execution_count": null,
      "outputs": []
    },
    {
      "cell_type": "code",
      "execution_count": null,
      "metadata": {
        "tags": [],
        "id": "ODN6lYE72QQF"
      },
      "outputs": [],
      "source": [
        "res = model.predict(input_text)"
      ]
    },
    {
      "cell_type": "code",
      "execution_count": null,
      "metadata": {
        "jupyter": {
          "source_hidden": true
        },
        "id": "mOy15G5G2QQF"
      },
      "outputs": [],
      "source": [
        "(res > 0.5).astype(int)"
      ]
    },
    {
      "cell_type": "code",
      "execution_count": null,
      "metadata": {
        "id": "9yV8S4552QQF"
      },
      "outputs": [],
      "source": [
        "batch_X, batch_y = test.as_numpy_iterator().next()"
      ]
    },
    {
      "cell_type": "code",
      "execution_count": null,
      "metadata": {
        "jupyter": {
          "outputs_hidden": true
        },
        "tags": [],
        "id": "zCA6lC2y2QQF"
      },
      "outputs": [],
      "source": [
        "(model.predict(batch_X) > 0.5).astype(int)"
      ]
    },
    {
      "cell_type": "code",
      "execution_count": null,
      "metadata": {
        "id": "nl5z882c2QQF"
      },
      "outputs": [],
      "source": [
        "res.shape"
      ]
    }
  ],
  "metadata": {
    "kernelspec": {
      "display_name": "toxic",
      "language": "python",
      "name": "toxic"
    },
    "language_info": {
      "codemirror_mode": {
        "name": "ipython",
        "version": 3
      },
      "file_extension": ".py",
      "mimetype": "text/x-python",
      "name": "python",
      "nbconvert_exporter": "python",
      "pygments_lexer": "ipython3",
      "version": "3.9.7"
    },
    "colab": {
      "provenance": [],
      "gpuType": "T4"
    },
    "accelerator": "GPU"
  },
  "nbformat": 4,
  "nbformat_minor": 0
}